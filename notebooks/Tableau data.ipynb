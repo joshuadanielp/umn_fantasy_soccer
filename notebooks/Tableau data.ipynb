{
 "metadata": {
  "language_info": {
   "codemirror_mode": {
    "name": "ipython",
    "version": 3
   },
   "file_extension": ".py",
   "mimetype": "text/x-python",
   "name": "python",
   "nbconvert_exporter": "python",
   "pygments_lexer": "ipython3",
   "version": "3.7.7-final"
  },
  "orig_nbformat": 2,
  "kernelspec": {
   "name": "python_defaultSpec_1597715610423",
   "display_name": "Python 3.6.9 64-bit"
  }
 },
 "nbformat": 4,
 "nbformat_minor": 2,
 "cells": [
  {
   "cell_type": "code",
   "execution_count": 5,
   "metadata": {},
   "outputs": [],
   "source": [
    "from sqlalchemy import create_engine, inspect\n",
    "import pandas as pd"
   ]
  },
  {
   "cell_type": "code",
   "execution_count": 6,
   "metadata": {},
   "outputs": [],
   "source": [
    "engine = create_engine(\"sqlite:///../db/mlsseasons.sqlite\", echo=False)"
   ]
  },
  {
   "cell_type": "code",
   "execution_count": 7,
   "metadata": {},
   "outputs": [
    {
     "output_type": "execute_result",
     "data": {
      "text/plain": "<sqlalchemy.engine.reflection.Inspector at 0x1f0bed40948>"
     },
     "metadata": {},
     "execution_count": 7
    }
   ],
   "source": [
    "inspect(engine)"
   ]
  },
  {
   "cell_type": "code",
   "execution_count": 8,
   "metadata": {},
   "outputs": [
    {
     "output_type": "execute_result",
     "data": {
      "text/plain": "         First Name               Last Name Position                    Club  \\\n0              None  Carreiro da Silva Fred      M-F           DCD.C. United   \n1               Ben                   Olsen        M           DCD.C. United   \n2              Brad                   North        F           DCD.C. United   \n3             Brian                 Carroll        M           DCD.C. United   \n4             Bryan                  Arguez      M-D           DCD.C. United   \n...             ...                     ...      ...                     ...   \n6206         Quincy                Amarikwa        F  SJSan Jose Earthquakes   \n6207           Shea                 Salinas        M  SJSan Jose Earthquakes   \n6208          Tommy                Thompson        M  SJSan Jose Earthquakes   \n6209  Valeri \"Vako\"             Qazaishvili        M  SJSan Jose Earthquakes   \n6210       Yeferson                Quintana        D  SJSan Jose Earthquakes   \n\n     PTS Standing  Season  \n0     55        1    2007  \n1     55        1    2007  \n2     55        1    2007  \n3     55        1    2007  \n4     55        1    2007  \n...   ..      ...     ...  \n6206  21       23    2018  \n6207  21       23    2018  \n6208  21       23    2018  \n6209  21       23    2018  \n6210  21       23    2018  \n\n[6211 rows x 7 columns]",
      "text/html": "<div>\n<style scoped>\n    .dataframe tbody tr th:only-of-type {\n        vertical-align: middle;\n    }\n\n    .dataframe tbody tr th {\n        vertical-align: top;\n    }\n\n    .dataframe thead th {\n        text-align: right;\n    }\n</style>\n<table border=\"1\" class=\"dataframe\">\n  <thead>\n    <tr style=\"text-align: right;\">\n      <th></th>\n      <th>First Name</th>\n      <th>Last Name</th>\n      <th>Position</th>\n      <th>Club</th>\n      <th>PTS</th>\n      <th>Standing</th>\n      <th>Season</th>\n    </tr>\n  </thead>\n  <tbody>\n    <tr>\n      <th>0</th>\n      <td>None</td>\n      <td>Carreiro da Silva Fred</td>\n      <td>M-F</td>\n      <td>DCD.C. United</td>\n      <td>55</td>\n      <td>1</td>\n      <td>2007</td>\n    </tr>\n    <tr>\n      <th>1</th>\n      <td>Ben</td>\n      <td>Olsen</td>\n      <td>M</td>\n      <td>DCD.C. United</td>\n      <td>55</td>\n      <td>1</td>\n      <td>2007</td>\n    </tr>\n    <tr>\n      <th>2</th>\n      <td>Brad</td>\n      <td>North</td>\n      <td>F</td>\n      <td>DCD.C. United</td>\n      <td>55</td>\n      <td>1</td>\n      <td>2007</td>\n    </tr>\n    <tr>\n      <th>3</th>\n      <td>Brian</td>\n      <td>Carroll</td>\n      <td>M</td>\n      <td>DCD.C. United</td>\n      <td>55</td>\n      <td>1</td>\n      <td>2007</td>\n    </tr>\n    <tr>\n      <th>4</th>\n      <td>Bryan</td>\n      <td>Arguez</td>\n      <td>M-D</td>\n      <td>DCD.C. United</td>\n      <td>55</td>\n      <td>1</td>\n      <td>2007</td>\n    </tr>\n    <tr>\n      <th>...</th>\n      <td>...</td>\n      <td>...</td>\n      <td>...</td>\n      <td>...</td>\n      <td>...</td>\n      <td>...</td>\n      <td>...</td>\n    </tr>\n    <tr>\n      <th>6206</th>\n      <td>Quincy</td>\n      <td>Amarikwa</td>\n      <td>F</td>\n      <td>SJSan Jose Earthquakes</td>\n      <td>21</td>\n      <td>23</td>\n      <td>2018</td>\n    </tr>\n    <tr>\n      <th>6207</th>\n      <td>Shea</td>\n      <td>Salinas</td>\n      <td>M</td>\n      <td>SJSan Jose Earthquakes</td>\n      <td>21</td>\n      <td>23</td>\n      <td>2018</td>\n    </tr>\n    <tr>\n      <th>6208</th>\n      <td>Tommy</td>\n      <td>Thompson</td>\n      <td>M</td>\n      <td>SJSan Jose Earthquakes</td>\n      <td>21</td>\n      <td>23</td>\n      <td>2018</td>\n    </tr>\n    <tr>\n      <th>6209</th>\n      <td>Valeri \"Vako\"</td>\n      <td>Qazaishvili</td>\n      <td>M</td>\n      <td>SJSan Jose Earthquakes</td>\n      <td>21</td>\n      <td>23</td>\n      <td>2018</td>\n    </tr>\n    <tr>\n      <th>6210</th>\n      <td>Yeferson</td>\n      <td>Quintana</td>\n      <td>D</td>\n      <td>SJSan Jose Earthquakes</td>\n      <td>21</td>\n      <td>23</td>\n      <td>2018</td>\n    </tr>\n  </tbody>\n</table>\n<p>6211 rows × 7 columns</p>\n</div>"
     },
     "metadata": {},
     "execution_count": 8
    }
   ],
   "source": [
    "dataset=pd.DataFrame(engine.execute(\"\"\"\n",
    "select s.\"First Name\", s.\"Last Name\", s.Position,\n",
    "c.Club, c.pts, c.\"#\" as standing, c.season\n",
    "from seasons c\n",
    "join club_map m on m.long_name = c.Club\n",
    "join salaries s on s.\"Club (grouped)\" = m.short_name\n",
    "where c.season = s.Season\n",
    "\"\"\"),columns=['First Name','Last Name','Position','Club','PTS','Standing','Season'])\n",
    "dataset"
   ]
  },
  {
   "cell_type": "code",
   "execution_count": 9,
   "metadata": {},
   "outputs": [],
   "source": [
    "dataset[\"First Name\"] = dataset[\"First Name\"].fillna(\"\")"
   ]
  },
  {
   "cell_type": "code",
   "execution_count": 10,
   "metadata": {},
   "outputs": [
    {
     "output_type": "execute_result",
     "data": {
      "text/plain": "         First Name               Last Name Position                    Club  \\\n0                    Carreiro da Silva Fred      M-F           DCD.C. United   \n1               Ben                   Olsen        M           DCD.C. United   \n2              Brad                   North        F           DCD.C. United   \n3             Brian                 Carroll        M           DCD.C. United   \n4             Bryan                  Arguez      M-D           DCD.C. United   \n...             ...                     ...      ...                     ...   \n6206         Quincy                Amarikwa        F  SJSan Jose Earthquakes   \n6207           Shea                 Salinas        M  SJSan Jose Earthquakes   \n6208          Tommy                Thompson        M  SJSan Jose Earthquakes   \n6209  Valeri \"Vako\"             Qazaishvili        M  SJSan Jose Earthquakes   \n6210       Yeferson                Quintana        D  SJSan Jose Earthquakes   \n\n     PTS Standing  Season                    Player  \\\n0     55        1    2007    Carreiro da Silva Fred   \n1     55        1    2007                  BenOlsen   \n2     55        1    2007                 BradNorth   \n3     55        1    2007              BrianCarroll   \n4     55        1    2007               BryanArguez   \n...   ..      ...     ...                       ...   \n6206  21       23    2018            QuincyAmarikwa   \n6207  21       23    2018               SheaSalinas   \n6208  21       23    2018             TommyThompson   \n6209  21       23    2018  Valeri \"Vako\"Qazaishvili   \n6210  21       23    2018          YefersonQuintana   \n\n                            Team  \n0              DCD.C. United2007  \n1              DCD.C. United2007  \n2              DCD.C. United2007  \n3              DCD.C. United2007  \n4              DCD.C. United2007  \n...                          ...  \n6206  SJSan Jose Earthquakes2018  \n6207  SJSan Jose Earthquakes2018  \n6208  SJSan Jose Earthquakes2018  \n6209  SJSan Jose Earthquakes2018  \n6210  SJSan Jose Earthquakes2018  \n\n[6211 rows x 9 columns]",
      "text/html": "<div>\n<style scoped>\n    .dataframe tbody tr th:only-of-type {\n        vertical-align: middle;\n    }\n\n    .dataframe tbody tr th {\n        vertical-align: top;\n    }\n\n    .dataframe thead th {\n        text-align: right;\n    }\n</style>\n<table border=\"1\" class=\"dataframe\">\n  <thead>\n    <tr style=\"text-align: right;\">\n      <th></th>\n      <th>First Name</th>\n      <th>Last Name</th>\n      <th>Position</th>\n      <th>Club</th>\n      <th>PTS</th>\n      <th>Standing</th>\n      <th>Season</th>\n      <th>Player</th>\n      <th>Team</th>\n    </tr>\n  </thead>\n  <tbody>\n    <tr>\n      <th>0</th>\n      <td></td>\n      <td>Carreiro da Silva Fred</td>\n      <td>M-F</td>\n      <td>DCD.C. United</td>\n      <td>55</td>\n      <td>1</td>\n      <td>2007</td>\n      <td>Carreiro da Silva Fred</td>\n      <td>DCD.C. United2007</td>\n    </tr>\n    <tr>\n      <th>1</th>\n      <td>Ben</td>\n      <td>Olsen</td>\n      <td>M</td>\n      <td>DCD.C. United</td>\n      <td>55</td>\n      <td>1</td>\n      <td>2007</td>\n      <td>BenOlsen</td>\n      <td>DCD.C. United2007</td>\n    </tr>\n    <tr>\n      <th>2</th>\n      <td>Brad</td>\n      <td>North</td>\n      <td>F</td>\n      <td>DCD.C. United</td>\n      <td>55</td>\n      <td>1</td>\n      <td>2007</td>\n      <td>BradNorth</td>\n      <td>DCD.C. United2007</td>\n    </tr>\n    <tr>\n      <th>3</th>\n      <td>Brian</td>\n      <td>Carroll</td>\n      <td>M</td>\n      <td>DCD.C. United</td>\n      <td>55</td>\n      <td>1</td>\n      <td>2007</td>\n      <td>BrianCarroll</td>\n      <td>DCD.C. United2007</td>\n    </tr>\n    <tr>\n      <th>4</th>\n      <td>Bryan</td>\n      <td>Arguez</td>\n      <td>M-D</td>\n      <td>DCD.C. United</td>\n      <td>55</td>\n      <td>1</td>\n      <td>2007</td>\n      <td>BryanArguez</td>\n      <td>DCD.C. United2007</td>\n    </tr>\n    <tr>\n      <th>...</th>\n      <td>...</td>\n      <td>...</td>\n      <td>...</td>\n      <td>...</td>\n      <td>...</td>\n      <td>...</td>\n      <td>...</td>\n      <td>...</td>\n      <td>...</td>\n    </tr>\n    <tr>\n      <th>6206</th>\n      <td>Quincy</td>\n      <td>Amarikwa</td>\n      <td>F</td>\n      <td>SJSan Jose Earthquakes</td>\n      <td>21</td>\n      <td>23</td>\n      <td>2018</td>\n      <td>QuincyAmarikwa</td>\n      <td>SJSan Jose Earthquakes2018</td>\n    </tr>\n    <tr>\n      <th>6207</th>\n      <td>Shea</td>\n      <td>Salinas</td>\n      <td>M</td>\n      <td>SJSan Jose Earthquakes</td>\n      <td>21</td>\n      <td>23</td>\n      <td>2018</td>\n      <td>SheaSalinas</td>\n      <td>SJSan Jose Earthquakes2018</td>\n    </tr>\n    <tr>\n      <th>6208</th>\n      <td>Tommy</td>\n      <td>Thompson</td>\n      <td>M</td>\n      <td>SJSan Jose Earthquakes</td>\n      <td>21</td>\n      <td>23</td>\n      <td>2018</td>\n      <td>TommyThompson</td>\n      <td>SJSan Jose Earthquakes2018</td>\n    </tr>\n    <tr>\n      <th>6209</th>\n      <td>Valeri \"Vako\"</td>\n      <td>Qazaishvili</td>\n      <td>M</td>\n      <td>SJSan Jose Earthquakes</td>\n      <td>21</td>\n      <td>23</td>\n      <td>2018</td>\n      <td>Valeri \"Vako\"Qazaishvili</td>\n      <td>SJSan Jose Earthquakes2018</td>\n    </tr>\n    <tr>\n      <th>6210</th>\n      <td>Yeferson</td>\n      <td>Quintana</td>\n      <td>D</td>\n      <td>SJSan Jose Earthquakes</td>\n      <td>21</td>\n      <td>23</td>\n      <td>2018</td>\n      <td>YefersonQuintana</td>\n      <td>SJSan Jose Earthquakes2018</td>\n    </tr>\n  </tbody>\n</table>\n<p>6211 rows × 9 columns</p>\n</div>"
     },
     "metadata": {},
     "execution_count": 10
    }
   ],
   "source": [
    "dataset['Player'] = dataset['First Name'] + dataset['Last Name'] # + dataset['Position']\n",
    "dataset['Team'] = dataset['Club'] + dataset['Season'].apply(str)\n",
    "dataset"
   ]
  },
  {
   "cell_type": "code",
   "execution_count": 25,
   "metadata": {},
   "outputs": [],
   "source": [
    "dataset.to_csv(\"Tableau_data.csv\", encoding='utf-8', index=False)"
   ]
  },
  {
   "cell_type": "code",
   "execution_count": 15,
   "metadata": {},
   "outputs": [
    {
     "output_type": "error",
     "ename": "NameError",
     "evalue": "name 'a' is not defined",
     "traceback": [
      "\u001b[1;31m---------------------------------------------------------------------------\u001b[0m",
      "\u001b[1;31mNameError\u001b[0m                                 Traceback (most recent call last)",
      "\u001b[1;32m<ipython-input-15-27ddd10295a4>\u001b[0m in \u001b[0;36m<module>\u001b[1;34m\u001b[0m\n\u001b[1;32m----> 1\u001b[1;33m \u001b[0ma\u001b[0m\u001b[1;33m.\u001b[0m\u001b[0mkeys\u001b[0m\u001b[1;33m(\u001b[0m\u001b[1;33m)\u001b[0m\u001b[1;33m\u001b[0m\u001b[1;33m\u001b[0m\u001b[0m\n\u001b[0m",
      "\u001b[1;31mNameError\u001b[0m: name 'a' is not defined"
     ]
    }
   ],
   "source": [
    "a.keys()"
   ]
  },
  {
   "cell_type": "code",
   "execution_count": 16,
   "metadata": {},
   "outputs": [
    {
     "output_type": "execute_result",
     "data": {
      "text/plain": "count    2250.000000\nmean        2.758667\nstd         2.360747\nmin         1.000000\n25%         1.000000\n50%         2.000000\n75%         4.000000\nmax        12.000000\nName: Season, dtype: float64"
     },
     "metadata": {},
     "execution_count": 16
    }
   ],
   "source": [
    "dataset.groupby(\"Player\").count()[\"Season\"].describe()"
   ]
  },
  {
   "cell_type": "code",
   "execution_count": 17,
   "metadata": {},
   "outputs": [],
   "source": [
    "y = dataset[\"Player\"].tolist()"
   ]
  },
  {
   "cell_type": "code",
   "execution_count": 18,
   "metadata": {},
   "outputs": [
    {
     "output_type": "execute_result",
     "data": {
      "text/plain": "array([ 384,  231,  279, ..., 2122, 2165, 2222], dtype=int64)"
     },
     "metadata": {},
     "execution_count": 18
    }
   ],
   "source": [
    " from sklearn.preprocessing import LabelEncoder\n",
    "\n",
    "# Step 1: Label-encode data set\n",
    "label_encoder = LabelEncoder()\n",
    "label_encoder.fit(y)\n",
    "encoded_y = label_encoder.transform(y)\n",
    "encoded_y"
   ]
  },
  {
   "cell_type": "code",
   "execution_count": 19,
   "metadata": {},
   "outputs": [
    {
     "output_type": "execute_result",
     "data": {
      "text/plain": "     First Name Last Name Position           Club PTS Standing  Season  \\\n1           Ben     Olsen        M  DCD.C. United  55        1    2007   \n627         Ben     Olsen        M  DCD.C. United  38       10    2008   \n1005        Ben     Olsen        M  DCD.C. United  40       10    2009   \n\n        Player               Team  encoded_player  present  \n1     BenOlsen  DCD.C. United2007             231      1.0  \n627   BenOlsen  DCD.C. United2008             231      1.0  \n1005  BenOlsen  DCD.C. United2009             231      1.0  ",
      "text/html": "<div>\n<style scoped>\n    .dataframe tbody tr th:only-of-type {\n        vertical-align: middle;\n    }\n\n    .dataframe tbody tr th {\n        vertical-align: top;\n    }\n\n    .dataframe thead th {\n        text-align: right;\n    }\n</style>\n<table border=\"1\" class=\"dataframe\">\n  <thead>\n    <tr style=\"text-align: right;\">\n      <th></th>\n      <th>First Name</th>\n      <th>Last Name</th>\n      <th>Position</th>\n      <th>Club</th>\n      <th>PTS</th>\n      <th>Standing</th>\n      <th>Season</th>\n      <th>Player</th>\n      <th>Team</th>\n      <th>encoded_player</th>\n      <th>present</th>\n    </tr>\n  </thead>\n  <tbody>\n    <tr>\n      <th>1</th>\n      <td>Ben</td>\n      <td>Olsen</td>\n      <td>M</td>\n      <td>DCD.C. United</td>\n      <td>55</td>\n      <td>1</td>\n      <td>2007</td>\n      <td>BenOlsen</td>\n      <td>DCD.C. United2007</td>\n      <td>231</td>\n      <td>1.0</td>\n    </tr>\n    <tr>\n      <th>627</th>\n      <td>Ben</td>\n      <td>Olsen</td>\n      <td>M</td>\n      <td>DCD.C. United</td>\n      <td>38</td>\n      <td>10</td>\n      <td>2008</td>\n      <td>BenOlsen</td>\n      <td>DCD.C. United2008</td>\n      <td>231</td>\n      <td>1.0</td>\n    </tr>\n    <tr>\n      <th>1005</th>\n      <td>Ben</td>\n      <td>Olsen</td>\n      <td>M</td>\n      <td>DCD.C. United</td>\n      <td>40</td>\n      <td>10</td>\n      <td>2009</td>\n      <td>BenOlsen</td>\n      <td>DCD.C. United2009</td>\n      <td>231</td>\n      <td>1.0</td>\n    </tr>\n  </tbody>\n</table>\n</div>"
     },
     "metadata": {},
     "execution_count": 19
    }
   ],
   "source": [
    "dataset['encoded_player'] = encoded_y\n",
    "dataset['present'] = 1.0\n",
    "dataset.loc[dataset['Player'] == 'BenOlsen']"
   ]
  },
  {
   "cell_type": "code",
   "execution_count": 73,
   "metadata": {},
   "outputs": [
    {
     "output_type": "execute_result",
     "data": {
      "text/plain": "encoded_player                 0     1     2     3     4     5     6     7     \\\nTeam                                                                            \nATLAtlanta United FC2017        NaN   NaN   NaN   NaN   NaN   NaN   NaN   NaN   \nATLAtlanta United FC2018        NaN   NaN   NaN   NaN   NaN   NaN   NaN   NaN   \nCHIChicago Fire FC2007          NaN   NaN   NaN   NaN   NaN   NaN   NaN   NaN   \nCHIChicago Fire FC2008          NaN   NaN   NaN   NaN   NaN   NaN   NaN   NaN   \nCHIChicago Fire FC2009          NaN   NaN   NaN   NaN   NaN   NaN   NaN   NaN   \n...                             ...   ...   ...   ...   ...   ...   ...   ...   \nVANVancouver Whitecaps FC2014   NaN   NaN   NaN   NaN   NaN   NaN   NaN   NaN   \nVANVancouver Whitecaps FC2015   NaN   NaN   NaN   NaN   NaN   NaN   NaN   NaN   \nVANVancouver Whitecaps FC2016   NaN   NaN   NaN   NaN   NaN   NaN   NaN   NaN   \nVANVancouver Whitecaps FC2017   NaN   NaN   NaN   NaN   NaN   NaN   NaN   NaN   \nVANVancouver Whitecaps FC2018   NaN   NaN   NaN   NaN   NaN   NaN   NaN   NaN   \n\nencoded_player                 8     9     ...  2241  2242  2243  2244  2245  \\\nTeam                                       ...                                 \nATLAtlanta United FC2017        NaN   NaN  ...   NaN   NaN   NaN   NaN   NaN   \nATLAtlanta United FC2018        NaN   NaN  ...   NaN   NaN   NaN   NaN   NaN   \nCHIChicago Fire FC2007          NaN   NaN  ...   NaN   NaN   NaN   NaN   NaN   \nCHIChicago Fire FC2008          NaN   NaN  ...   NaN   NaN   NaN   NaN   NaN   \nCHIChicago Fire FC2009          NaN   NaN  ...   NaN   NaN   NaN   NaN   NaN   \n...                             ...   ...  ...   ...   ...   ...   ...   ...   \nVANVancouver Whitecaps FC2014   NaN   NaN  ...   NaN   NaN   NaN   NaN   NaN   \nVANVancouver Whitecaps FC2015   NaN   NaN  ...   NaN   NaN   NaN   NaN   NaN   \nVANVancouver Whitecaps FC2016   NaN   NaN  ...   NaN   NaN   NaN   NaN   NaN   \nVANVancouver Whitecaps FC2017   NaN   NaN  ...   NaN   NaN   NaN   NaN   NaN   \nVANVancouver Whitecaps FC2018   NaN   NaN  ...   NaN   NaN   NaN   NaN   NaN   \n\nencoded_player                 2246  2247  2248  2249  2250  \nTeam                                                         \nATLAtlanta United FC2017        NaN   NaN   NaN   NaN   NaN  \nATLAtlanta United FC2018        NaN   NaN   NaN   NaN   NaN  \nCHIChicago Fire FC2007          NaN   NaN   NaN   NaN   NaN  \nCHIChicago Fire FC2008          NaN   NaN   NaN   NaN   NaN  \nCHIChicago Fire FC2009          NaN   NaN   NaN   NaN   NaN  \n...                             ...   ...   ...   ...   ...  \nVANVancouver Whitecaps FC2014   NaN   NaN   NaN   NaN   NaN  \nVANVancouver Whitecaps FC2015   NaN   NaN   NaN   NaN   NaN  \nVANVancouver Whitecaps FC2016   NaN   NaN   NaN   NaN   NaN  \nVANVancouver Whitecaps FC2017   NaN   NaN   NaN   NaN   NaN  \nVANVancouver Whitecaps FC2018   NaN   NaN   NaN   NaN   NaN  \n\n[218 rows x 2251 columns]",
      "text/html": "<div>\n<style scoped>\n    .dataframe tbody tr th:only-of-type {\n        vertical-align: middle;\n    }\n\n    .dataframe tbody tr th {\n        vertical-align: top;\n    }\n\n    .dataframe thead th {\n        text-align: right;\n    }\n</style>\n<table border=\"1\" class=\"dataframe\">\n  <thead>\n    <tr style=\"text-align: right;\">\n      <th>encoded_player</th>\n      <th>0</th>\n      <th>1</th>\n      <th>2</th>\n      <th>3</th>\n      <th>4</th>\n      <th>5</th>\n      <th>6</th>\n      <th>7</th>\n      <th>8</th>\n      <th>9</th>\n      <th>...</th>\n      <th>2241</th>\n      <th>2242</th>\n      <th>2243</th>\n      <th>2244</th>\n      <th>2245</th>\n      <th>2246</th>\n      <th>2247</th>\n      <th>2248</th>\n      <th>2249</th>\n      <th>2250</th>\n    </tr>\n    <tr>\n      <th>Team</th>\n      <th></th>\n      <th></th>\n      <th></th>\n      <th></th>\n      <th></th>\n      <th></th>\n      <th></th>\n      <th></th>\n      <th></th>\n      <th></th>\n      <th></th>\n      <th></th>\n      <th></th>\n      <th></th>\n      <th></th>\n      <th></th>\n      <th></th>\n      <th></th>\n      <th></th>\n      <th></th>\n      <th></th>\n    </tr>\n  </thead>\n  <tbody>\n    <tr>\n      <th>ATLAtlanta United FC2017</th>\n      <td>NaN</td>\n      <td>NaN</td>\n      <td>NaN</td>\n      <td>NaN</td>\n      <td>NaN</td>\n      <td>NaN</td>\n      <td>NaN</td>\n      <td>NaN</td>\n      <td>NaN</td>\n      <td>NaN</td>\n      <td>...</td>\n      <td>NaN</td>\n      <td>NaN</td>\n      <td>NaN</td>\n      <td>NaN</td>\n      <td>NaN</td>\n      <td>NaN</td>\n      <td>NaN</td>\n      <td>NaN</td>\n      <td>NaN</td>\n      <td>NaN</td>\n    </tr>\n    <tr>\n      <th>ATLAtlanta United FC2018</th>\n      <td>NaN</td>\n      <td>NaN</td>\n      <td>NaN</td>\n      <td>NaN</td>\n      <td>NaN</td>\n      <td>NaN</td>\n      <td>NaN</td>\n      <td>NaN</td>\n      <td>NaN</td>\n      <td>NaN</td>\n      <td>...</td>\n      <td>NaN</td>\n      <td>NaN</td>\n      <td>NaN</td>\n      <td>NaN</td>\n      <td>NaN</td>\n      <td>NaN</td>\n      <td>NaN</td>\n      <td>NaN</td>\n      <td>NaN</td>\n      <td>NaN</td>\n    </tr>\n    <tr>\n      <th>CHIChicago Fire FC2007</th>\n      <td>NaN</td>\n      <td>NaN</td>\n      <td>NaN</td>\n      <td>NaN</td>\n      <td>NaN</td>\n      <td>NaN</td>\n      <td>NaN</td>\n      <td>NaN</td>\n      <td>NaN</td>\n      <td>NaN</td>\n      <td>...</td>\n      <td>NaN</td>\n      <td>NaN</td>\n      <td>NaN</td>\n      <td>NaN</td>\n      <td>NaN</td>\n      <td>NaN</td>\n      <td>NaN</td>\n      <td>NaN</td>\n      <td>NaN</td>\n      <td>NaN</td>\n    </tr>\n    <tr>\n      <th>CHIChicago Fire FC2008</th>\n      <td>NaN</td>\n      <td>NaN</td>\n      <td>NaN</td>\n      <td>NaN</td>\n      <td>NaN</td>\n      <td>NaN</td>\n      <td>NaN</td>\n      <td>NaN</td>\n      <td>NaN</td>\n      <td>NaN</td>\n      <td>...</td>\n      <td>NaN</td>\n      <td>NaN</td>\n      <td>NaN</td>\n      <td>NaN</td>\n      <td>NaN</td>\n      <td>NaN</td>\n      <td>NaN</td>\n      <td>NaN</td>\n      <td>NaN</td>\n      <td>NaN</td>\n    </tr>\n    <tr>\n      <th>CHIChicago Fire FC2009</th>\n      <td>NaN</td>\n      <td>NaN</td>\n      <td>NaN</td>\n      <td>NaN</td>\n      <td>NaN</td>\n      <td>NaN</td>\n      <td>NaN</td>\n      <td>NaN</td>\n      <td>NaN</td>\n      <td>NaN</td>\n      <td>...</td>\n      <td>NaN</td>\n      <td>NaN</td>\n      <td>NaN</td>\n      <td>NaN</td>\n      <td>NaN</td>\n      <td>NaN</td>\n      <td>NaN</td>\n      <td>NaN</td>\n      <td>NaN</td>\n      <td>NaN</td>\n    </tr>\n    <tr>\n      <th>...</th>\n      <td>...</td>\n      <td>...</td>\n      <td>...</td>\n      <td>...</td>\n      <td>...</td>\n      <td>...</td>\n      <td>...</td>\n      <td>...</td>\n      <td>...</td>\n      <td>...</td>\n      <td>...</td>\n      <td>...</td>\n      <td>...</td>\n      <td>...</td>\n      <td>...</td>\n      <td>...</td>\n      <td>...</td>\n      <td>...</td>\n      <td>...</td>\n      <td>...</td>\n      <td>...</td>\n    </tr>\n    <tr>\n      <th>VANVancouver Whitecaps FC2014</th>\n      <td>NaN</td>\n      <td>NaN</td>\n      <td>NaN</td>\n      <td>NaN</td>\n      <td>NaN</td>\n      <td>NaN</td>\n      <td>NaN</td>\n      <td>NaN</td>\n      <td>NaN</td>\n      <td>NaN</td>\n      <td>...</td>\n      <td>NaN</td>\n      <td>NaN</td>\n      <td>NaN</td>\n      <td>NaN</td>\n      <td>NaN</td>\n      <td>NaN</td>\n      <td>NaN</td>\n      <td>NaN</td>\n      <td>NaN</td>\n      <td>NaN</td>\n    </tr>\n    <tr>\n      <th>VANVancouver Whitecaps FC2015</th>\n      <td>NaN</td>\n      <td>NaN</td>\n      <td>NaN</td>\n      <td>NaN</td>\n      <td>NaN</td>\n      <td>NaN</td>\n      <td>NaN</td>\n      <td>NaN</td>\n      <td>NaN</td>\n      <td>NaN</td>\n      <td>...</td>\n      <td>NaN</td>\n      <td>NaN</td>\n      <td>NaN</td>\n      <td>NaN</td>\n      <td>NaN</td>\n      <td>NaN</td>\n      <td>NaN</td>\n      <td>NaN</td>\n      <td>NaN</td>\n      <td>NaN</td>\n    </tr>\n    <tr>\n      <th>VANVancouver Whitecaps FC2016</th>\n      <td>NaN</td>\n      <td>NaN</td>\n      <td>NaN</td>\n      <td>NaN</td>\n      <td>NaN</td>\n      <td>NaN</td>\n      <td>NaN</td>\n      <td>NaN</td>\n      <td>NaN</td>\n      <td>NaN</td>\n      <td>...</td>\n      <td>NaN</td>\n      <td>NaN</td>\n      <td>NaN</td>\n      <td>NaN</td>\n      <td>NaN</td>\n      <td>NaN</td>\n      <td>NaN</td>\n      <td>NaN</td>\n      <td>NaN</td>\n      <td>NaN</td>\n    </tr>\n    <tr>\n      <th>VANVancouver Whitecaps FC2017</th>\n      <td>NaN</td>\n      <td>NaN</td>\n      <td>NaN</td>\n      <td>NaN</td>\n      <td>NaN</td>\n      <td>NaN</td>\n      <td>NaN</td>\n      <td>NaN</td>\n      <td>NaN</td>\n      <td>NaN</td>\n      <td>...</td>\n      <td>NaN</td>\n      <td>NaN</td>\n      <td>NaN</td>\n      <td>NaN</td>\n      <td>NaN</td>\n      <td>NaN</td>\n      <td>NaN</td>\n      <td>NaN</td>\n      <td>NaN</td>\n      <td>NaN</td>\n    </tr>\n    <tr>\n      <th>VANVancouver Whitecaps FC2018</th>\n      <td>NaN</td>\n      <td>NaN</td>\n      <td>NaN</td>\n      <td>NaN</td>\n      <td>NaN</td>\n      <td>NaN</td>\n      <td>NaN</td>\n      <td>NaN</td>\n      <td>NaN</td>\n      <td>NaN</td>\n      <td>...</td>\n      <td>NaN</td>\n      <td>NaN</td>\n      <td>NaN</td>\n      <td>NaN</td>\n      <td>NaN</td>\n      <td>NaN</td>\n      <td>NaN</td>\n      <td>NaN</td>\n      <td>NaN</td>\n      <td>NaN</td>\n    </tr>\n  </tbody>\n</table>\n<p>218 rows × 2251 columns</p>\n</div>"
     },
     "metadata": {},
     "execution_count": 73
    }
   ],
   "source": [
    "samples = dataset.pivot(index=\"Team\", columns=\"encoded_player\", values='present')\n",
    "samples"
   ]
  },
  {
   "cell_type": "code",
   "execution_count": 20,
   "metadata": {},
   "outputs": [
    {
     "output_type": "error",
     "ename": "NameError",
     "evalue": "name 'samples' is not defined",
     "traceback": [
      "\u001b[1;31m---------------------------------------------------------------------------\u001b[0m",
      "\u001b[1;31mNameError\u001b[0m                                 Traceback (most recent call last)",
      "\u001b[1;32m<ipython-input-20-3292739d1014>\u001b[0m in \u001b[0;36m<module>\u001b[1;34m\u001b[0m\n\u001b[1;32m----> 1\u001b[1;33m \u001b[0msamples\u001b[0m\u001b[1;33m.\u001b[0m\u001b[0mdescribe\u001b[0m\u001b[1;33m(\u001b[0m\u001b[1;33m)\u001b[0m\u001b[1;33m\u001b[0m\u001b[1;33m\u001b[0m\u001b[0m\n\u001b[0m",
      "\u001b[1;31mNameError\u001b[0m: name 'samples' is not defined"
     ]
    }
   ],
   "source": [
    "samples.describe()"
   ]
  },
  {
   "cell_type": "code",
   "execution_count": 21,
   "metadata": {},
   "outputs": [
    {
     "output_type": "execute_result",
     "data": {
      "text/plain": "Team\nATLAtlanta United FC2017          4\nATLAtlanta United FC2018          2\nCHIChicago Fire FC2007            8\nCHIChicago Fire FC2008            3\nCHIChicago Fire FC2009            6\n                                 ..\nVANVancouver Whitecaps FC2014     9\nVANVancouver Whitecaps FC2015     3\nVANVancouver Whitecaps FC2016    16\nVANVancouver Whitecaps FC2017     8\nVANVancouver Whitecaps FC2018    14\nName: Standing, Length: 218, dtype: int32"
     },
     "metadata": {},
     "execution_count": 21
    }
   ],
   "source": [
    "dataset['Standing'] = dataset['Standing'].astype(int)\n",
    "dataset['PTS'] = dataset['PTS'].astype(int)\n",
    "y = dataset.groupby('Team').mean()['Standing'].sort_index()\n",
    "y"
   ]
  },
  {
   "cell_type": "code",
   "execution_count": 22,
   "metadata": {},
   "outputs": [
    {
     "output_type": "error",
     "ename": "ModuleNotFoundError",
     "evalue": "No module named 'tensorflow'",
     "traceback": [
      "\u001b[1;31m---------------------------------------------------------------------------\u001b[0m",
      "\u001b[1;31mModuleNotFoundError\u001b[0m                       Traceback (most recent call last)",
      "\u001b[1;32m<ipython-input-22-c2373a70d9f5>\u001b[0m in \u001b[0;36m<module>\u001b[1;34m\u001b[0m\n\u001b[0;32m      1\u001b[0m \u001b[1;32mfrom\u001b[0m \u001b[0mnumpy\u001b[0m\u001b[1;33m.\u001b[0m\u001b[0mrandom\u001b[0m \u001b[1;32mimport\u001b[0m \u001b[0mseed\u001b[0m\u001b[1;33m\u001b[0m\u001b[1;33m\u001b[0m\u001b[0m\n\u001b[0;32m      2\u001b[0m \u001b[0mseed\u001b[0m\u001b[1;33m(\u001b[0m\u001b[1;36m1\u001b[0m\u001b[1;33m)\u001b[0m\u001b[1;33m\u001b[0m\u001b[1;33m\u001b[0m\u001b[0m\n\u001b[1;32m----> 3\u001b[1;33m \u001b[1;32mfrom\u001b[0m \u001b[0mtensorflow\u001b[0m \u001b[1;32mimport\u001b[0m \u001b[0mrandom\u001b[0m\u001b[1;33m\u001b[0m\u001b[1;33m\u001b[0m\u001b[0m\n\u001b[0m\u001b[0;32m      4\u001b[0m \u001b[0mrandom\u001b[0m\u001b[1;33m.\u001b[0m\u001b[0mset_seed\u001b[0m\u001b[1;33m(\u001b[0m\u001b[1;36m1\u001b[0m\u001b[1;33m)\u001b[0m\u001b[1;33m\u001b[0m\u001b[1;33m\u001b[0m\u001b[0m\n\u001b[0;32m      5\u001b[0m \u001b[0mget_ipython\u001b[0m\u001b[1;33m(\u001b[0m\u001b[1;33m)\u001b[0m\u001b[1;33m.\u001b[0m\u001b[0mrun_line_magic\u001b[0m\u001b[1;33m(\u001b[0m\u001b[1;34m'matplotlib'\u001b[0m\u001b[1;33m,\u001b[0m \u001b[1;34m'inline'\u001b[0m\u001b[1;33m)\u001b[0m\u001b[1;33m\u001b[0m\u001b[1;33m\u001b[0m\u001b[0m\n",
      "\u001b[1;31mModuleNotFoundError\u001b[0m: No module named 'tensorflow'"
     ]
    }
   ],
   "source": [
    "from numpy.random import seed\n",
    "seed(1)\n",
    "from tensorflow import random\n",
    "random.set_seed(1)\n",
    "%matplotlib inline\n",
    "import matplotlib.pyplot as plt\n",
    "import numpy as np\n",
    "import sklearn\n",
    "import sklearn.datasets"
   ]
  },
  {
   "cell_type": "code",
   "execution_count": 23,
   "metadata": {},
   "outputs": [
    {
     "output_type": "error",
     "ename": "NameError",
     "evalue": "name 'samples' is not defined",
     "traceback": [
      "\u001b[1;31m---------------------------------------------------------------------------\u001b[0m",
      "\u001b[1;31mNameError\u001b[0m                                 Traceback (most recent call last)",
      "\u001b[1;32m<ipython-input-23-be6f41f63230>\u001b[0m in \u001b[0;36m<module>\u001b[1;34m\u001b[0m\n\u001b[1;32m----> 1\u001b[1;33m \u001b[0mX\u001b[0m \u001b[1;33m=\u001b[0m \u001b[0msamples\u001b[0m\u001b[1;33m.\u001b[0m\u001b[0mfillna\u001b[0m\u001b[1;33m(\u001b[0m\u001b[1;36m0\u001b[0m\u001b[1;33m)\u001b[0m\u001b[1;33m.\u001b[0m\u001b[0msort_index\u001b[0m\u001b[1;33m(\u001b[0m\u001b[1;33m)\u001b[0m\u001b[1;33m\u001b[0m\u001b[1;33m\u001b[0m\u001b[0m\n\u001b[0m",
      "\u001b[1;31mNameError\u001b[0m: name 'samples' is not defined"
     ]
    }
   ],
   "source": [
    "X = samples.fillna(0).sort_index()"
   ]
  },
  {
   "cell_type": "code",
   "execution_count": 120,
   "metadata": {},
   "outputs": [],
   "source": [
    "# Use train_test_split to create training and testing data\n",
    "from sklearn.model_selection import train_test_split\n",
    "\n",
    "X_train, X_test, y_train, y_test = train_test_split(X, y, random_state=1)"
   ]
  },
  {
   "cell_type": "code",
   "execution_count": 121,
   "metadata": {},
   "outputs": [
    {
     "output_type": "execute_result",
     "data": {
      "text/plain": "(55, 2251)"
     },
     "metadata": {},
     "execution_count": 121
    }
   ],
   "source": [
    "X_test.shape"
   ]
  },
  {
   "cell_type": "code",
   "execution_count": 126,
   "metadata": {
    "tags": []
   },
   "outputs": [
    {
     "output_type": "stream",
     "name": "stdout",
     "text": "Model: \"sequential_7\"\n_________________________________________________________________\nLayer (type)                 Output Shape              Param #   \n=================================================================\ndense_20 (Dense)             (None, 32)                72064     \n_________________________________________________________________\ndense_21 (Dense)             (None, 16)                528       \n_________________________________________________________________\ndense_22 (Dense)             (None, 8)                 136       \n_________________________________________________________________\ndense_23 (Dense)             (None, 1)                 9         \n=================================================================\nTotal params: 72,737\nTrainable params: 72,737\nNon-trainable params: 0\n_________________________________________________________________\n"
    }
   ],
   "source": [
    "# first, create a normal neural network with 2 inputs, 6 hidden nodes, and 2 outputs\n",
    "from tensorflow.keras.models import Sequential\n",
    "from tensorflow.keras.layers import Dense\n",
    "\n",
    "model = Sequential()\n",
    "model.add(Dense(units=32, activation='relu', input_dim=X_train.shape[-1]))\n",
    "model.add(Dense(units=16, activation='relu'))\n",
    "model.add(Dense(units=8, activation='relu'))\n",
    "model.add(Dense(units=1))\n",
    "model.summary()"
   ]
  },
  {
   "cell_type": "code",
   "execution_count": 127,
   "metadata": {},
   "outputs": [],
   "source": [
    "# Compile the model\n",
    "model.compile(optimizer='adam',\n",
    "              loss='mean_squared_error',\n",
    "              metrics=['accuracy'])"
   ]
  },
  {
   "cell_type": "code",
   "execution_count": 128,
   "metadata": {
    "tags": []
   },
   "outputs": [
    {
     "output_type": "stream",
     "name": "stdout",
     "text": "Epoch 1/100\n6/6 - 0s - loss: 123.7152 - accuracy: 0.0000e+00\nEpoch 2/100\n6/6 - 0s - loss: 120.9275 - accuracy: 0.0000e+00\nEpoch 3/100\n6/6 - 0s - loss: 118.0542 - accuracy: 0.0123\nEpoch 4/100\n6/6 - 0s - loss: 114.2574 - accuracy: 0.0429\nEpoch 5/100\n6/6 - 0s - loss: 109.0280 - accuracy: 0.0552\nEpoch 6/100\n6/6 - 0s - loss: 101.6678 - accuracy: 0.0613\nEpoch 7/100\n6/6 - 0s - loss: 92.4238 - accuracy: 0.0613\nEpoch 8/100\n6/6 - 0s - loss: 81.2518 - accuracy: 0.0613\nEpoch 9/100\n6/6 - 0s - loss: 68.5782 - accuracy: 0.0613\nEpoch 10/100\n6/6 - 0s - loss: 55.5454 - accuracy: 0.0613\nEpoch 11/100\n6/6 - 0s - loss: 43.2998 - accuracy: 0.0613\nEpoch 12/100\n6/6 - 0s - loss: 33.2201 - accuracy: 0.0613\nEpoch 13/100\n6/6 - 0s - loss: 25.5361 - accuracy: 0.0613\nEpoch 14/100\n6/6 - 0s - loss: 20.6469 - accuracy: 0.0613\nEpoch 15/100\n6/6 - 0s - loss: 17.2138 - accuracy: 0.0613\nEpoch 16/100\n6/6 - 0s - loss: 14.1681 - accuracy: 0.0613\nEpoch 17/100\n6/6 - 0s - loss: 11.9324 - accuracy: 0.0613\nEpoch 18/100\n6/6 - 0s - loss: 9.9496 - accuracy: 0.0613\nEpoch 19/100\n6/6 - 0s - loss: 8.4369 - accuracy: 0.0613\nEpoch 20/100\n6/6 - 0s - loss: 7.3190 - accuracy: 0.0613\nEpoch 21/100\n6/6 - 0s - loss: 6.3525 - accuracy: 0.0613\nEpoch 22/100\n6/6 - 0s - loss: 5.5163 - accuracy: 0.0613\nEpoch 23/100\n6/6 - 0s - loss: 4.7766 - accuracy: 0.0613\nEpoch 24/100\n6/6 - 0s - loss: 4.0712 - accuracy: 0.0613\nEpoch 25/100\n6/6 - 0s - loss: 3.4594 - accuracy: 0.0613\nEpoch 26/100\n6/6 - 0s - loss: 3.0327 - accuracy: 0.0613\nEpoch 27/100\n6/6 - 0s - loss: 2.5767 - accuracy: 0.0613\nEpoch 28/100\n6/6 - 0s - loss: 2.1478 - accuracy: 0.0613\nEpoch 29/100\n6/6 - 0s - loss: 1.8130 - accuracy: 0.0613\nEpoch 30/100\n6/6 - 0s - loss: 1.5391 - accuracy: 0.0613\nEpoch 31/100\n6/6 - 0s - loss: 1.3441 - accuracy: 0.0613\nEpoch 32/100\n6/6 - 0s - loss: 1.1628 - accuracy: 0.0613\nEpoch 33/100\n6/6 - 0s - loss: 0.9963 - accuracy: 0.0613\nEpoch 34/100\n6/6 - 0s - loss: 0.8418 - accuracy: 0.0613\nEpoch 35/100\n6/6 - 0s - loss: 0.7306 - accuracy: 0.0613\nEpoch 36/100\n6/6 - 0s - loss: 0.6401 - accuracy: 0.0613\nEpoch 37/100\n6/6 - 0s - loss: 0.5572 - accuracy: 0.0613\nEpoch 38/100\n6/6 - 0s - loss: 0.4758 - accuracy: 0.0613\nEpoch 39/100\n6/6 - 0s - loss: 0.4170 - accuracy: 0.0613\nEpoch 40/100\n6/6 - 0s - loss: 0.3485 - accuracy: 0.0613\nEpoch 41/100\n6/6 - 0s - loss: 0.3092 - accuracy: 0.0613\nEpoch 42/100\n6/6 - 0s - loss: 0.2782 - accuracy: 0.0613\nEpoch 43/100\n6/6 - 0s - loss: 0.2367 - accuracy: 0.0613\nEpoch 44/100\n6/6 - 0s - loss: 0.2074 - accuracy: 0.0613\nEpoch 45/100\n6/6 - 0s - loss: 0.1785 - accuracy: 0.0613\nEpoch 46/100\n6/6 - 0s - loss: 0.1461 - accuracy: 0.0613\nEpoch 47/100\n6/6 - 0s - loss: 0.1243 - accuracy: 0.0613\nEpoch 48/100\n6/6 - 0s - loss: 0.1067 - accuracy: 0.0613\nEpoch 49/100\n6/6 - 0s - loss: 0.0883 - accuracy: 0.0613\nEpoch 50/100\n6/6 - 0s - loss: 0.0769 - accuracy: 0.0613\nEpoch 51/100\n6/6 - 0s - loss: 0.0682 - accuracy: 0.0613\nEpoch 52/100\n6/6 - 0s - loss: 0.0600 - accuracy: 0.0613\nEpoch 53/100\n6/6 - 0s - loss: 0.0533 - accuracy: 0.0613\nEpoch 54/100\n6/6 - 0s - loss: 0.0465 - accuracy: 0.0613\nEpoch 55/100\n6/6 - 0s - loss: 0.0394 - accuracy: 0.0613\nEpoch 56/100\n6/6 - 0s - loss: 0.0345 - accuracy: 0.0613\nEpoch 57/100\n6/6 - 0s - loss: 0.0292 - accuracy: 0.0613\nEpoch 58/100\n6/6 - 0s - loss: 0.0261 - accuracy: 0.0613\nEpoch 59/100\n6/6 - 0s - loss: 0.0225 - accuracy: 0.0613\nEpoch 60/100\n6/6 - 0s - loss: 0.0202 - accuracy: 0.0613\nEpoch 61/100\n6/6 - 0s - loss: 0.0174 - accuracy: 0.0613\nEpoch 62/100\n6/6 - 0s - loss: 0.0157 - accuracy: 0.0613\nEpoch 63/100\n6/6 - 0s - loss: 0.0133 - accuracy: 0.0613\nEpoch 64/100\n6/6 - 0s - loss: 0.0121 - accuracy: 0.0613\nEpoch 65/100\n6/6 - 0s - loss: 0.0105 - accuracy: 0.0613\nEpoch 66/100\n6/6 - 0s - loss: 0.0094 - accuracy: 0.0613\nEpoch 67/100\n6/6 - 0s - loss: 0.0081 - accuracy: 0.0613\nEpoch 68/100\n6/6 - 0s - loss: 0.0069 - accuracy: 0.0613\nEpoch 69/100\n6/6 - 0s - loss: 0.0062 - accuracy: 0.0613\nEpoch 70/100\n6/6 - 0s - loss: 0.0055 - accuracy: 0.0613\nEpoch 71/100\n6/6 - 0s - loss: 0.0048 - accuracy: 0.0613\nEpoch 72/100\n6/6 - 0s - loss: 0.0043 - accuracy: 0.0613\nEpoch 73/100\n6/6 - 0s - loss: 0.0038 - accuracy: 0.0613\nEpoch 74/100\n6/6 - 0s - loss: 0.0034 - accuracy: 0.0613\nEpoch 75/100\n6/6 - 0s - loss: 0.0030 - accuracy: 0.0613\nEpoch 76/100\n6/6 - 0s - loss: 0.0026 - accuracy: 0.0613\nEpoch 77/100\n6/6 - 0s - loss: 0.0023 - accuracy: 0.0613\nEpoch 78/100\n6/6 - 0s - loss: 0.0020 - accuracy: 0.0613\nEpoch 79/100\n6/6 - 0s - loss: 0.0018 - accuracy: 0.0613\nEpoch 80/100\n6/6 - 0s - loss: 0.0016 - accuracy: 0.0613\nEpoch 81/100\n6/6 - 0s - loss: 0.0014 - accuracy: 0.0613\nEpoch 82/100\n6/6 - 0s - loss: 0.0012 - accuracy: 0.0613\nEpoch 83/100\n6/6 - 0s - loss: 0.0011 - accuracy: 0.0613\nEpoch 84/100\n6/6 - 0s - loss: 9.0038e-04 - accuracy: 0.0613\nEpoch 85/100\n6/6 - 0s - loss: 9.0003e-04 - accuracy: 0.0613\nEpoch 86/100\n6/6 - 0s - loss: 8.4352e-04 - accuracy: 0.0613\nEpoch 87/100\n6/6 - 0s - loss: 7.2714e-04 - accuracy: 0.0613\nEpoch 88/100\n6/6 - 0s - loss: 6.3243e-04 - accuracy: 0.0613\nEpoch 89/100\n6/6 - 0s - loss: 5.0560e-04 - accuracy: 0.0613\nEpoch 90/100\n6/6 - 0s - loss: 3.8076e-04 - accuracy: 0.0613\nEpoch 91/100\n6/6 - 0s - loss: 2.8659e-04 - accuracy: 0.0613\nEpoch 92/100\n6/6 - 0s - loss: 2.0855e-04 - accuracy: 0.0613\nEpoch 93/100\n6/6 - 0s - loss: 1.5627e-04 - accuracy: 0.0613\nEpoch 94/100\n6/6 - 0s - loss: 1.3077e-04 - accuracy: 0.0613\nEpoch 95/100\n6/6 - 0s - loss: 1.1577e-04 - accuracy: 0.0613\nEpoch 96/100\n6/6 - 0s - loss: 9.6830e-05 - accuracy: 0.0613\nEpoch 97/100\n6/6 - 0s - loss: 7.9714e-05 - accuracy: 0.0613\nEpoch 98/100\n6/6 - 0s - loss: 6.9873e-05 - accuracy: 0.0613\nEpoch 99/100\n6/6 - 0s - loss: 6.2228e-05 - accuracy: 0.0613\nEpoch 100/100\n6/6 - 0s - loss: 5.3912e-05 - accuracy: 0.0613\n"
    },
    {
     "output_type": "execute_result",
     "data": {
      "text/plain": "<tensorflow.python.keras.callbacks.History at 0x7fadc71a8f60>"
     },
     "metadata": {},
     "execution_count": 128
    }
   ],
   "source": [
    "# Fit the model to the training data\n",
    "model.fit(\n",
    "    X_train,\n",
    "    y_train,\n",
    "    epochs=100,\n",
    "    shuffle=True,\n",
    "    verbose=2\n",
    ")"
   ]
  },
  {
   "cell_type": "code",
   "execution_count": 129,
   "metadata": {
    "tags": []
   },
   "outputs": [
    {
     "output_type": "stream",
     "name": "stdout",
     "text": "2/2 - 0s - loss: 33.1486 - accuracy: 0.0364\nNormal Neural Network - Loss: 33.14860534667969, Accuracy: 0.036363635212183\n"
    }
   ],
   "source": [
    "model_loss, model_accuracy = model.evaluate(\n",
    "    X_test, y_test, verbose=2)\n",
    "print(\n",
    "    f\"Normal Neural Network - Loss: {model_loss}, Accuracy: {model_accuracy}\")"
   ]
  },
  {
   "cell_type": "code",
   "execution_count": null,
   "metadata": {},
   "outputs": [],
   "source": []
  }
 ]
}