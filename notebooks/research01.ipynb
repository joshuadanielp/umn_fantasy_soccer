{
 "metadata": {
  "language_info": {
   "codemirror_mode": {
    "name": "ipython",
    "version": 3
   },
   "file_extension": ".py",
   "mimetype": "text/x-python",
   "name": "python",
   "nbconvert_exporter": "python",
   "pygments_lexer": "ipython3",
   "version": "3.6.9-final"
  },
  "orig_nbformat": 2,
  "kernelspec": {
   "name": "python_defaultSpec_1597707953683",
   "display_name": "Python 3.6.9 64-bit"
  }
 },
 "nbformat": 4,
 "nbformat_minor": 2,
 "cells": [
  {
   "cell_type": "code",
   "execution_count": 1,
   "metadata": {},
   "outputs": [],
   "source": [
    "from sqlalchemy import create_engine, inspect\n",
    "import pandas as pd"
   ]
  },
  {
   "cell_type": "code",
   "execution_count": 2,
   "metadata": {},
   "outputs": [],
   "source": [
    "engine = create_engine(\"sqlite:///../db/mlsseasons.sqlite\", echo=False)"
   ]
  },
  {
   "cell_type": "code",
   "execution_count": 3,
   "metadata": {},
   "outputs": [
    {
     "output_type": "execute_result",
     "data": {
      "text/plain": "<sqlalchemy.engine.reflection.Inspector at 0x7ff630170e10>"
     },
     "metadata": {},
     "execution_count": 3
    }
   ],
   "source": [
    "inspect(engine)"
   ]
  },
  {
   "cell_type": "code",
   "execution_count": 4,
   "metadata": {},
   "outputs": [
    {
     "output_type": "execute_result",
     "data": {
      "text/plain": "         First Name               Last Name Position                    Club  \\\n0              None  Carreiro da Silva Fred      M-F           DCD.C. United   \n1               Ben                   Olsen        M           DCD.C. United   \n2              Brad                   North        F           DCD.C. United   \n3             Brian                 Carroll        M           DCD.C. United   \n4             Bryan                  Arguez      M-D           DCD.C. United   \n...             ...                     ...      ...                     ...   \n6206         Quincy                Amarikwa        F  SJSan Jose Earthquakes   \n6207           Shea                 Salinas        M  SJSan Jose Earthquakes   \n6208          Tommy                Thompson        M  SJSan Jose Earthquakes   \n6209  Valeri \"Vako\"             Qazaishvili        M  SJSan Jose Earthquakes   \n6210       Yeferson                Quintana        D  SJSan Jose Earthquakes   \n\n     PTS Standing  Season  \n0     55        1    2007  \n1     55        1    2007  \n2     55        1    2007  \n3     55        1    2007  \n4     55        1    2007  \n...   ..      ...     ...  \n6206  21       23    2018  \n6207  21       23    2018  \n6208  21       23    2018  \n6209  21       23    2018  \n6210  21       23    2018  \n\n[6211 rows x 7 columns]",
      "text/html": "<div>\n<style scoped>\n    .dataframe tbody tr th:only-of-type {\n        vertical-align: middle;\n    }\n\n    .dataframe tbody tr th {\n        vertical-align: top;\n    }\n\n    .dataframe thead th {\n        text-align: right;\n    }\n</style>\n<table border=\"1\" class=\"dataframe\">\n  <thead>\n    <tr style=\"text-align: right;\">\n      <th></th>\n      <th>First Name</th>\n      <th>Last Name</th>\n      <th>Position</th>\n      <th>Club</th>\n      <th>PTS</th>\n      <th>Standing</th>\n      <th>Season</th>\n    </tr>\n  </thead>\n  <tbody>\n    <tr>\n      <th>0</th>\n      <td>None</td>\n      <td>Carreiro da Silva Fred</td>\n      <td>M-F</td>\n      <td>DCD.C. United</td>\n      <td>55</td>\n      <td>1</td>\n      <td>2007</td>\n    </tr>\n    <tr>\n      <th>1</th>\n      <td>Ben</td>\n      <td>Olsen</td>\n      <td>M</td>\n      <td>DCD.C. United</td>\n      <td>55</td>\n      <td>1</td>\n      <td>2007</td>\n    </tr>\n    <tr>\n      <th>2</th>\n      <td>Brad</td>\n      <td>North</td>\n      <td>F</td>\n      <td>DCD.C. United</td>\n      <td>55</td>\n      <td>1</td>\n      <td>2007</td>\n    </tr>\n    <tr>\n      <th>3</th>\n      <td>Brian</td>\n      <td>Carroll</td>\n      <td>M</td>\n      <td>DCD.C. United</td>\n      <td>55</td>\n      <td>1</td>\n      <td>2007</td>\n    </tr>\n    <tr>\n      <th>4</th>\n      <td>Bryan</td>\n      <td>Arguez</td>\n      <td>M-D</td>\n      <td>DCD.C. United</td>\n      <td>55</td>\n      <td>1</td>\n      <td>2007</td>\n    </tr>\n    <tr>\n      <th>...</th>\n      <td>...</td>\n      <td>...</td>\n      <td>...</td>\n      <td>...</td>\n      <td>...</td>\n      <td>...</td>\n      <td>...</td>\n    </tr>\n    <tr>\n      <th>6206</th>\n      <td>Quincy</td>\n      <td>Amarikwa</td>\n      <td>F</td>\n      <td>SJSan Jose Earthquakes</td>\n      <td>21</td>\n      <td>23</td>\n      <td>2018</td>\n    </tr>\n    <tr>\n      <th>6207</th>\n      <td>Shea</td>\n      <td>Salinas</td>\n      <td>M</td>\n      <td>SJSan Jose Earthquakes</td>\n      <td>21</td>\n      <td>23</td>\n      <td>2018</td>\n    </tr>\n    <tr>\n      <th>6208</th>\n      <td>Tommy</td>\n      <td>Thompson</td>\n      <td>M</td>\n      <td>SJSan Jose Earthquakes</td>\n      <td>21</td>\n      <td>23</td>\n      <td>2018</td>\n    </tr>\n    <tr>\n      <th>6209</th>\n      <td>Valeri \"Vako\"</td>\n      <td>Qazaishvili</td>\n      <td>M</td>\n      <td>SJSan Jose Earthquakes</td>\n      <td>21</td>\n      <td>23</td>\n      <td>2018</td>\n    </tr>\n    <tr>\n      <th>6210</th>\n      <td>Yeferson</td>\n      <td>Quintana</td>\n      <td>D</td>\n      <td>SJSan Jose Earthquakes</td>\n      <td>21</td>\n      <td>23</td>\n      <td>2018</td>\n    </tr>\n  </tbody>\n</table>\n<p>6211 rows × 7 columns</p>\n</div>"
     },
     "metadata": {},
     "execution_count": 4
    }
   ],
   "source": [
    "dataset=pd.DataFrame(engine.execute(\"\"\"\n",
    "select s.\"First Name\", s.\"Last Name\", s.Position,\n",
    "c.Club, c.pts, c.\"#\" as standing, c.season\n",
    "from seasons c\n",
    "join club_map m on m.long_name = c.Club\n",
    "join salaries s on s.\"Club (grouped)\" = m.short_name\n",
    "where c.season = s.Season\n",
    "\"\"\"),columns=['First Name','Last Name','Position','Club','PTS','Standing','Season'])\n",
    "dataset"
   ]
  },
  {
   "cell_type": "code",
   "execution_count": 18,
   "metadata": {},
   "outputs": [
    {
     "output_type": "execute_result",
     "data": {
      "text/plain": "('3.22.0',)"
     },
     "metadata": {},
     "execution_count": 18
    }
   ],
   "source": [
    "engine.execute(\"select sqlite_version()\").first()"
   ]
  },
  {
   "cell_type": "code",
   "execution_count": 20,
   "metadata": {},
   "outputs": [],
   "source": [
    "dataset[\"First Name\"] = dataset[\"First Name\"].fillna(\"\")"
   ]
  },
  {
   "cell_type": "code",
   "execution_count": 21,
   "metadata": {},
   "outputs": [
    {
     "output_type": "execute_result",
     "data": {
      "text/plain": "         First Name               Last Name Position                    Club  \\\n0                    Carreiro da Silva Fred      M-F           DCD.C. United   \n1               Ben                   Olsen        M           DCD.C. United   \n2              Brad                   North        F           DCD.C. United   \n3             Brian                 Carroll        M           DCD.C. United   \n4             Bryan                  Arguez      M-D           DCD.C. United   \n...             ...                     ...      ...                     ...   \n6206         Quincy                Amarikwa        F  SJSan Jose Earthquakes   \n6207           Shea                 Salinas        M  SJSan Jose Earthquakes   \n6208          Tommy                Thompson        M  SJSan Jose Earthquakes   \n6209  Valeri \"Vako\"             Qazaishvili        M  SJSan Jose Earthquakes   \n6210       Yeferson                Quintana        D  SJSan Jose Earthquakes   \n\n     PTS Standing  Season                    Player  \\\n0     55        1    2007    Carreiro da Silva Fred   \n1     55        1    2007                  BenOlsen   \n2     55        1    2007                 BradNorth   \n3     55        1    2007              BrianCarroll   \n4     55        1    2007               BryanArguez   \n...   ..      ...     ...                       ...   \n6206  21       23    2018            QuincyAmarikwa   \n6207  21       23    2018               SheaSalinas   \n6208  21       23    2018             TommyThompson   \n6209  21       23    2018  Valeri \"Vako\"Qazaishvili   \n6210  21       23    2018          YefersonQuintana   \n\n                            Team  \n0              DCD.C. United2007  \n1              DCD.C. United2007  \n2              DCD.C. United2007  \n3              DCD.C. United2007  \n4              DCD.C. United2007  \n...                          ...  \n6206  SJSan Jose Earthquakes2018  \n6207  SJSan Jose Earthquakes2018  \n6208  SJSan Jose Earthquakes2018  \n6209  SJSan Jose Earthquakes2018  \n6210  SJSan Jose Earthquakes2018  \n\n[6211 rows x 9 columns]",
      "text/html": "<div>\n<style scoped>\n    .dataframe tbody tr th:only-of-type {\n        vertical-align: middle;\n    }\n\n    .dataframe tbody tr th {\n        vertical-align: top;\n    }\n\n    .dataframe thead th {\n        text-align: right;\n    }\n</style>\n<table border=\"1\" class=\"dataframe\">\n  <thead>\n    <tr style=\"text-align: right;\">\n      <th></th>\n      <th>First Name</th>\n      <th>Last Name</th>\n      <th>Position</th>\n      <th>Club</th>\n      <th>PTS</th>\n      <th>Standing</th>\n      <th>Season</th>\n      <th>Player</th>\n      <th>Team</th>\n    </tr>\n  </thead>\n  <tbody>\n    <tr>\n      <th>0</th>\n      <td></td>\n      <td>Carreiro da Silva Fred</td>\n      <td>M-F</td>\n      <td>DCD.C. United</td>\n      <td>55</td>\n      <td>1</td>\n      <td>2007</td>\n      <td>Carreiro da Silva Fred</td>\n      <td>DCD.C. United2007</td>\n    </tr>\n    <tr>\n      <th>1</th>\n      <td>Ben</td>\n      <td>Olsen</td>\n      <td>M</td>\n      <td>DCD.C. United</td>\n      <td>55</td>\n      <td>1</td>\n      <td>2007</td>\n      <td>BenOlsen</td>\n      <td>DCD.C. United2007</td>\n    </tr>\n    <tr>\n      <th>2</th>\n      <td>Brad</td>\n      <td>North</td>\n      <td>F</td>\n      <td>DCD.C. United</td>\n      <td>55</td>\n      <td>1</td>\n      <td>2007</td>\n      <td>BradNorth</td>\n      <td>DCD.C. United2007</td>\n    </tr>\n    <tr>\n      <th>3</th>\n      <td>Brian</td>\n      <td>Carroll</td>\n      <td>M</td>\n      <td>DCD.C. United</td>\n      <td>55</td>\n      <td>1</td>\n      <td>2007</td>\n      <td>BrianCarroll</td>\n      <td>DCD.C. United2007</td>\n    </tr>\n    <tr>\n      <th>4</th>\n      <td>Bryan</td>\n      <td>Arguez</td>\n      <td>M-D</td>\n      <td>DCD.C. United</td>\n      <td>55</td>\n      <td>1</td>\n      <td>2007</td>\n      <td>BryanArguez</td>\n      <td>DCD.C. United2007</td>\n    </tr>\n    <tr>\n      <th>...</th>\n      <td>...</td>\n      <td>...</td>\n      <td>...</td>\n      <td>...</td>\n      <td>...</td>\n      <td>...</td>\n      <td>...</td>\n      <td>...</td>\n      <td>...</td>\n    </tr>\n    <tr>\n      <th>6206</th>\n      <td>Quincy</td>\n      <td>Amarikwa</td>\n      <td>F</td>\n      <td>SJSan Jose Earthquakes</td>\n      <td>21</td>\n      <td>23</td>\n      <td>2018</td>\n      <td>QuincyAmarikwa</td>\n      <td>SJSan Jose Earthquakes2018</td>\n    </tr>\n    <tr>\n      <th>6207</th>\n      <td>Shea</td>\n      <td>Salinas</td>\n      <td>M</td>\n      <td>SJSan Jose Earthquakes</td>\n      <td>21</td>\n      <td>23</td>\n      <td>2018</td>\n      <td>SheaSalinas</td>\n      <td>SJSan Jose Earthquakes2018</td>\n    </tr>\n    <tr>\n      <th>6208</th>\n      <td>Tommy</td>\n      <td>Thompson</td>\n      <td>M</td>\n      <td>SJSan Jose Earthquakes</td>\n      <td>21</td>\n      <td>23</td>\n      <td>2018</td>\n      <td>TommyThompson</td>\n      <td>SJSan Jose Earthquakes2018</td>\n    </tr>\n    <tr>\n      <th>6209</th>\n      <td>Valeri \"Vako\"</td>\n      <td>Qazaishvili</td>\n      <td>M</td>\n      <td>SJSan Jose Earthquakes</td>\n      <td>21</td>\n      <td>23</td>\n      <td>2018</td>\n      <td>Valeri \"Vako\"Qazaishvili</td>\n      <td>SJSan Jose Earthquakes2018</td>\n    </tr>\n    <tr>\n      <th>6210</th>\n      <td>Yeferson</td>\n      <td>Quintana</td>\n      <td>D</td>\n      <td>SJSan Jose Earthquakes</td>\n      <td>21</td>\n      <td>23</td>\n      <td>2018</td>\n      <td>YefersonQuintana</td>\n      <td>SJSan Jose Earthquakes2018</td>\n    </tr>\n  </tbody>\n</table>\n<p>6211 rows × 9 columns</p>\n</div>"
     },
     "metadata": {},
     "execution_count": 21
    }
   ],
   "source": [
    "dataset['Player'] = dataset['First Name'] + dataset['Last Name'] # + dataset['Position']\n",
    "dataset['Team'] = dataset['Club'] + dataset['Season'].apply(str)\n",
    "dataset"
   ]
  },
  {
   "cell_type": "code",
   "execution_count": 43,
   "metadata": {},
   "outputs": [
    {
     "output_type": "execute_result",
     "data": {
      "text/plain": "     First Name Last Name Position           Club PTS Standing  Season  \\\n1           Ben     Olsen        M  DCD.C. United  55        1    2007   \n627         Ben     Olsen        M  DCD.C. United  38       10    2008   \n1005        Ben     Olsen        M  DCD.C. United  40       10    2009   \n\n        Player               Team  Experience  \n1     BenOlsen  DCD.C. United2007           0  \n627   BenOlsen  DCD.C. United2008           1  \n1005  BenOlsen  DCD.C. United2009           2  ",
      "text/html": "<div>\n<style scoped>\n    .dataframe tbody tr th:only-of-type {\n        vertical-align: middle;\n    }\n\n    .dataframe tbody tr th {\n        vertical-align: top;\n    }\n\n    .dataframe thead th {\n        text-align: right;\n    }\n</style>\n<table border=\"1\" class=\"dataframe\">\n  <thead>\n    <tr style=\"text-align: right;\">\n      <th></th>\n      <th>First Name</th>\n      <th>Last Name</th>\n      <th>Position</th>\n      <th>Club</th>\n      <th>PTS</th>\n      <th>Standing</th>\n      <th>Season</th>\n      <th>Player</th>\n      <th>Team</th>\n      <th>Experience</th>\n    </tr>\n  </thead>\n  <tbody>\n    <tr>\n      <th>1</th>\n      <td>Ben</td>\n      <td>Olsen</td>\n      <td>M</td>\n      <td>DCD.C. United</td>\n      <td>55</td>\n      <td>1</td>\n      <td>2007</td>\n      <td>BenOlsen</td>\n      <td>DCD.C. United2007</td>\n      <td>0</td>\n    </tr>\n    <tr>\n      <th>627</th>\n      <td>Ben</td>\n      <td>Olsen</td>\n      <td>M</td>\n      <td>DCD.C. United</td>\n      <td>38</td>\n      <td>10</td>\n      <td>2008</td>\n      <td>BenOlsen</td>\n      <td>DCD.C. United2008</td>\n      <td>1</td>\n    </tr>\n    <tr>\n      <th>1005</th>\n      <td>Ben</td>\n      <td>Olsen</td>\n      <td>M</td>\n      <td>DCD.C. United</td>\n      <td>40</td>\n      <td>10</td>\n      <td>2009</td>\n      <td>BenOlsen</td>\n      <td>DCD.C. United2009</td>\n      <td>2</td>\n    </tr>\n  </tbody>\n</table>\n</div>"
     },
     "metadata": {},
     "execution_count": 43
    }
   ],
   "source": [
    "# Example on one player\n",
    "subset = dataset.loc[dataset[\"Player\"] == \"BenOlsen\"].sort_values(\"Season\")\n",
    "subset[\"Experience\"] = range(subset.count()[\"Season\"])\n",
    "subset\n",
    "#dataset.loc[dataset[\"Player\"] == \"BenOlsen\"]"
   ]
  },
  {
   "cell_type": "code",
   "execution_count": 77,
   "metadata": {
    "tags": []
   },
   "outputs": [
    {
     "output_type": "execute_result",
     "data": {
      "text/plain": "         First Name               Last Name Position                    Club  \\\n0                    Carreiro da Silva Fred      M-F           DCD.C. United   \n1               Ben                   Olsen        M           DCD.C. United   \n2              Brad                   North        F           DCD.C. United   \n3             Brian                 Carroll        M           DCD.C. United   \n4             Bryan                  Arguez      M-D           DCD.C. United   \n...             ...                     ...      ...                     ...   \n6206         Quincy                Amarikwa        F  SJSan Jose Earthquakes   \n6207           Shea                 Salinas        M  SJSan Jose Earthquakes   \n6208          Tommy                Thompson        M  SJSan Jose Earthquakes   \n6209  Valeri \"Vako\"             Qazaishvili        M  SJSan Jose Earthquakes   \n6210       Yeferson                Quintana        D  SJSan Jose Earthquakes   \n\n      PTS  Standing  Season                    Player  \\\n0      55         1    2007    Carreiro da Silva Fred   \n1      55         1    2007                  BenOlsen   \n2      55         1    2007                 BradNorth   \n3      55         1    2007              BrianCarroll   \n4      55         1    2007               BryanArguez   \n...   ...       ...     ...                       ...   \n6206   21        23    2018            QuincyAmarikwa   \n6207   21        23    2018               SheaSalinas   \n6208   21        23    2018             TommyThompson   \n6209   21        23    2018  Valeri \"Vako\"Qazaishvili   \n6210   21        23    2018          YefersonQuintana   \n\n                            Team  Experience  encoded_player  present  \n0              DCD.C. United2007         1.0             384      1.0  \n1              DCD.C. United2007         1.0             231      1.0  \n2              DCD.C. United2007         1.0             279      1.0  \n3              DCD.C. United2007         1.0             311      1.0  \n4              DCD.C. United2007         1.0             331      1.0  \n...                          ...         ...             ...      ...  \n6206  SJSan Jose Earthquakes2018        10.0            1812      1.0  \n6207  SJSan Jose Earthquakes2018        11.0            2014      1.0  \n6208  SJSan Jose Earthquakes2018         5.0            2122      1.0  \n6209  SJSan Jose Earthquakes2018         2.0            2165      1.0  \n6210  SJSan Jose Earthquakes2018         1.0            2222      1.0  \n\n[6211 rows x 12 columns]",
      "text/html": "<div>\n<style scoped>\n    .dataframe tbody tr th:only-of-type {\n        vertical-align: middle;\n    }\n\n    .dataframe tbody tr th {\n        vertical-align: top;\n    }\n\n    .dataframe thead th {\n        text-align: right;\n    }\n</style>\n<table border=\"1\" class=\"dataframe\">\n  <thead>\n    <tr style=\"text-align: right;\">\n      <th></th>\n      <th>First Name</th>\n      <th>Last Name</th>\n      <th>Position</th>\n      <th>Club</th>\n      <th>PTS</th>\n      <th>Standing</th>\n      <th>Season</th>\n      <th>Player</th>\n      <th>Team</th>\n      <th>Experience</th>\n      <th>encoded_player</th>\n      <th>present</th>\n    </tr>\n  </thead>\n  <tbody>\n    <tr>\n      <th>0</th>\n      <td></td>\n      <td>Carreiro da Silva Fred</td>\n      <td>M-F</td>\n      <td>DCD.C. United</td>\n      <td>55</td>\n      <td>1</td>\n      <td>2007</td>\n      <td>Carreiro da Silva Fred</td>\n      <td>DCD.C. United2007</td>\n      <td>1.0</td>\n      <td>384</td>\n      <td>1.0</td>\n    </tr>\n    <tr>\n      <th>1</th>\n      <td>Ben</td>\n      <td>Olsen</td>\n      <td>M</td>\n      <td>DCD.C. United</td>\n      <td>55</td>\n      <td>1</td>\n      <td>2007</td>\n      <td>BenOlsen</td>\n      <td>DCD.C. United2007</td>\n      <td>1.0</td>\n      <td>231</td>\n      <td>1.0</td>\n    </tr>\n    <tr>\n      <th>2</th>\n      <td>Brad</td>\n      <td>North</td>\n      <td>F</td>\n      <td>DCD.C. United</td>\n      <td>55</td>\n      <td>1</td>\n      <td>2007</td>\n      <td>BradNorth</td>\n      <td>DCD.C. United2007</td>\n      <td>1.0</td>\n      <td>279</td>\n      <td>1.0</td>\n    </tr>\n    <tr>\n      <th>3</th>\n      <td>Brian</td>\n      <td>Carroll</td>\n      <td>M</td>\n      <td>DCD.C. United</td>\n      <td>55</td>\n      <td>1</td>\n      <td>2007</td>\n      <td>BrianCarroll</td>\n      <td>DCD.C. United2007</td>\n      <td>1.0</td>\n      <td>311</td>\n      <td>1.0</td>\n    </tr>\n    <tr>\n      <th>4</th>\n      <td>Bryan</td>\n      <td>Arguez</td>\n      <td>M-D</td>\n      <td>DCD.C. United</td>\n      <td>55</td>\n      <td>1</td>\n      <td>2007</td>\n      <td>BryanArguez</td>\n      <td>DCD.C. United2007</td>\n      <td>1.0</td>\n      <td>331</td>\n      <td>1.0</td>\n    </tr>\n    <tr>\n      <th>...</th>\n      <td>...</td>\n      <td>...</td>\n      <td>...</td>\n      <td>...</td>\n      <td>...</td>\n      <td>...</td>\n      <td>...</td>\n      <td>...</td>\n      <td>...</td>\n      <td>...</td>\n      <td>...</td>\n      <td>...</td>\n    </tr>\n    <tr>\n      <th>6206</th>\n      <td>Quincy</td>\n      <td>Amarikwa</td>\n      <td>F</td>\n      <td>SJSan Jose Earthquakes</td>\n      <td>21</td>\n      <td>23</td>\n      <td>2018</td>\n      <td>QuincyAmarikwa</td>\n      <td>SJSan Jose Earthquakes2018</td>\n      <td>10.0</td>\n      <td>1812</td>\n      <td>1.0</td>\n    </tr>\n    <tr>\n      <th>6207</th>\n      <td>Shea</td>\n      <td>Salinas</td>\n      <td>M</td>\n      <td>SJSan Jose Earthquakes</td>\n      <td>21</td>\n      <td>23</td>\n      <td>2018</td>\n      <td>SheaSalinas</td>\n      <td>SJSan Jose Earthquakes2018</td>\n      <td>11.0</td>\n      <td>2014</td>\n      <td>1.0</td>\n    </tr>\n    <tr>\n      <th>6208</th>\n      <td>Tommy</td>\n      <td>Thompson</td>\n      <td>M</td>\n      <td>SJSan Jose Earthquakes</td>\n      <td>21</td>\n      <td>23</td>\n      <td>2018</td>\n      <td>TommyThompson</td>\n      <td>SJSan Jose Earthquakes2018</td>\n      <td>5.0</td>\n      <td>2122</td>\n      <td>1.0</td>\n    </tr>\n    <tr>\n      <th>6209</th>\n      <td>Valeri \"Vako\"</td>\n      <td>Qazaishvili</td>\n      <td>M</td>\n      <td>SJSan Jose Earthquakes</td>\n      <td>21</td>\n      <td>23</td>\n      <td>2018</td>\n      <td>Valeri \"Vako\"Qazaishvili</td>\n      <td>SJSan Jose Earthquakes2018</td>\n      <td>2.0</td>\n      <td>2165</td>\n      <td>1.0</td>\n    </tr>\n    <tr>\n      <th>6210</th>\n      <td>Yeferson</td>\n      <td>Quintana</td>\n      <td>D</td>\n      <td>SJSan Jose Earthquakes</td>\n      <td>21</td>\n      <td>23</td>\n      <td>2018</td>\n      <td>YefersonQuintana</td>\n      <td>SJSan Jose Earthquakes2018</td>\n      <td>1.0</td>\n      <td>2222</td>\n      <td>1.0</td>\n    </tr>\n  </tbody>\n</table>\n<p>6211 rows × 12 columns</p>\n</div>"
     },
     "metadata": {},
     "execution_count": 77
    }
   ],
   "source": [
    "# Add a column to the dataset \"Experience\" - how many years the player was in MLS prior to the season\n",
    "for player in pd.unique(dataset[\"Player\"]):\n",
    "    subset = dataset.loc[dataset[\"Player\"] == player].sort_values(\"Season\")\n",
    "    subset[\"Experience\"] = range(subset.count()[\"Season\"])\n",
    "    for season in subset[\"Season\"]:\n",
    "        exp = subset.loc[subset[\"Season\"] == season][\"Experience\"].array[0]\n",
    "        dataset.loc[((dataset[\"Player\"] == player) & (dataset[\"Season\"] == season)), [\"Experience\"]] = exp + 1\n",
    "dataset\n"
   ]
  },
  {
   "cell_type": "code",
   "execution_count": 59,
   "metadata": {},
   "outputs": [
    {
     "output_type": "execute_result",
     "data": {
      "text/plain": "count    2250.000000\nmean        2.758667\nstd         2.360747\nmin         1.000000\n25%         1.000000\n50%         2.000000\n75%         4.000000\nmax        12.000000\nName: Season, dtype: float64"
     },
     "metadata": {},
     "execution_count": 59
    }
   ],
   "source": [
    "dataset.groupby(\"Player\").count()[\"Season\"].describe()"
   ]
  },
  {
   "cell_type": "code",
   "execution_count": 60,
   "metadata": {},
   "outputs": [],
   "source": [
    "y = dataset[\"Player\"].tolist()"
   ]
  },
  {
   "cell_type": "code",
   "execution_count": 61,
   "metadata": {},
   "outputs": [
    {
     "output_type": "execute_result",
     "data": {
      "text/plain": "array([ 384,  231,  279, ..., 2122, 2165, 2222])"
     },
     "metadata": {},
     "execution_count": 61
    }
   ],
   "source": [
    " from sklearn.preprocessing import LabelEncoder\n",
    "\n",
    "# Step 1: Label-encode data set\n",
    "label_encoder = LabelEncoder()\n",
    "label_encoder.fit(y)\n",
    "encoded_y = label_encoder.transform(y)\n",
    "encoded_y"
   ]
  },
  {
   "cell_type": "code",
   "execution_count": 62,
   "metadata": {},
   "outputs": [
    {
     "output_type": "execute_result",
     "data": {
      "text/plain": "     First Name Last Name Position           Club PTS Standing  Season  \\\n1           Ben     Olsen        M  DCD.C. United  55        1    2007   \n627         Ben     Olsen        M  DCD.C. United  38       10    2008   \n1005        Ben     Olsen        M  DCD.C. United  40       10    2009   \n\n        Player               Team  Experience  encoded_player  present  \n1     BenOlsen  DCD.C. United2007         0.0             231      1.0  \n627   BenOlsen  DCD.C. United2008         1.0             231      1.0  \n1005  BenOlsen  DCD.C. United2009         2.0             231      1.0  ",
      "text/html": "<div>\n<style scoped>\n    .dataframe tbody tr th:only-of-type {\n        vertical-align: middle;\n    }\n\n    .dataframe tbody tr th {\n        vertical-align: top;\n    }\n\n    .dataframe thead th {\n        text-align: right;\n    }\n</style>\n<table border=\"1\" class=\"dataframe\">\n  <thead>\n    <tr style=\"text-align: right;\">\n      <th></th>\n      <th>First Name</th>\n      <th>Last Name</th>\n      <th>Position</th>\n      <th>Club</th>\n      <th>PTS</th>\n      <th>Standing</th>\n      <th>Season</th>\n      <th>Player</th>\n      <th>Team</th>\n      <th>Experience</th>\n      <th>encoded_player</th>\n      <th>present</th>\n    </tr>\n  </thead>\n  <tbody>\n    <tr>\n      <th>1</th>\n      <td>Ben</td>\n      <td>Olsen</td>\n      <td>M</td>\n      <td>DCD.C. United</td>\n      <td>55</td>\n      <td>1</td>\n      <td>2007</td>\n      <td>BenOlsen</td>\n      <td>DCD.C. United2007</td>\n      <td>0.0</td>\n      <td>231</td>\n      <td>1.0</td>\n    </tr>\n    <tr>\n      <th>627</th>\n      <td>Ben</td>\n      <td>Olsen</td>\n      <td>M</td>\n      <td>DCD.C. United</td>\n      <td>38</td>\n      <td>10</td>\n      <td>2008</td>\n      <td>BenOlsen</td>\n      <td>DCD.C. United2008</td>\n      <td>1.0</td>\n      <td>231</td>\n      <td>1.0</td>\n    </tr>\n    <tr>\n      <th>1005</th>\n      <td>Ben</td>\n      <td>Olsen</td>\n      <td>M</td>\n      <td>DCD.C. United</td>\n      <td>40</td>\n      <td>10</td>\n      <td>2009</td>\n      <td>BenOlsen</td>\n      <td>DCD.C. United2009</td>\n      <td>2.0</td>\n      <td>231</td>\n      <td>1.0</td>\n    </tr>\n  </tbody>\n</table>\n</div>"
     },
     "metadata": {},
     "execution_count": 62
    }
   ],
   "source": [
    "dataset['encoded_player'] = encoded_y\n",
    "dataset['present'] = 1.0\n",
    "dataset.loc[dataset['Player'] == 'BenOlsen']"
   ]
  },
  {
   "cell_type": "code",
   "execution_count": 63,
   "metadata": {},
   "outputs": [
    {
     "output_type": "execute_result",
     "data": {
      "text/plain": "encoded_player                 0     1     2     3     4     5     6     7     \\\nTeam                                                                            \nATLAtlanta United FC2017        NaN   NaN   NaN   NaN   NaN   NaN   NaN   NaN   \nATLAtlanta United FC2018        NaN   NaN   NaN   NaN   NaN   NaN   NaN   NaN   \nCHIChicago Fire FC2007          NaN   NaN   NaN   NaN   NaN   NaN   NaN   NaN   \nCHIChicago Fire FC2008          NaN   NaN   NaN   NaN   NaN   NaN   NaN   NaN   \nCHIChicago Fire FC2009          NaN   NaN   NaN   NaN   NaN   NaN   NaN   NaN   \n...                             ...   ...   ...   ...   ...   ...   ...   ...   \nVANVancouver Whitecaps FC2014   NaN   NaN   NaN   NaN   NaN   NaN   NaN   NaN   \nVANVancouver Whitecaps FC2015   NaN   NaN   NaN   NaN   NaN   NaN   NaN   NaN   \nVANVancouver Whitecaps FC2016   NaN   NaN   NaN   NaN   NaN   NaN   NaN   NaN   \nVANVancouver Whitecaps FC2017   NaN   NaN   NaN   NaN   NaN   NaN   NaN   NaN   \nVANVancouver Whitecaps FC2018   NaN   NaN   NaN   NaN   NaN   NaN   NaN   NaN   \n\nencoded_player                 8     9     ...  2241  2242  2243  2244  2245  \\\nTeam                                       ...                                 \nATLAtlanta United FC2017        NaN   NaN  ...   NaN   NaN   NaN   NaN   NaN   \nATLAtlanta United FC2018        NaN   NaN  ...   NaN   NaN   NaN   NaN   NaN   \nCHIChicago Fire FC2007          NaN   NaN  ...   NaN   NaN   NaN   NaN   NaN   \nCHIChicago Fire FC2008          NaN   NaN  ...   NaN   NaN   NaN   NaN   NaN   \nCHIChicago Fire FC2009          NaN   NaN  ...   NaN   NaN   NaN   NaN   NaN   \n...                             ...   ...  ...   ...   ...   ...   ...   ...   \nVANVancouver Whitecaps FC2014   NaN   NaN  ...   NaN   NaN   NaN   NaN   NaN   \nVANVancouver Whitecaps FC2015   NaN   NaN  ...   NaN   NaN   NaN   NaN   NaN   \nVANVancouver Whitecaps FC2016   NaN   NaN  ...   NaN   NaN   NaN   NaN   NaN   \nVANVancouver Whitecaps FC2017   NaN   NaN  ...   NaN   NaN   NaN   NaN   NaN   \nVANVancouver Whitecaps FC2018   NaN   NaN  ...   NaN   NaN   NaN   NaN   NaN   \n\nencoded_player                 2246  2247  2248  2249  2250  \nTeam                                                         \nATLAtlanta United FC2017        NaN   NaN   NaN   NaN   NaN  \nATLAtlanta United FC2018        NaN   NaN   NaN   NaN   NaN  \nCHIChicago Fire FC2007          NaN   NaN   NaN   NaN   NaN  \nCHIChicago Fire FC2008          NaN   NaN   NaN   NaN   NaN  \nCHIChicago Fire FC2009          NaN   NaN   NaN   NaN   NaN  \n...                             ...   ...   ...   ...   ...  \nVANVancouver Whitecaps FC2014   NaN   NaN   NaN   NaN   NaN  \nVANVancouver Whitecaps FC2015   NaN   NaN   NaN   NaN   NaN  \nVANVancouver Whitecaps FC2016   NaN   NaN   NaN   NaN   NaN  \nVANVancouver Whitecaps FC2017   NaN   NaN   NaN   NaN   NaN  \nVANVancouver Whitecaps FC2018   NaN   NaN   NaN   NaN   NaN  \n\n[218 rows x 2251 columns]",
      "text/html": "<div>\n<style scoped>\n    .dataframe tbody tr th:only-of-type {\n        vertical-align: middle;\n    }\n\n    .dataframe tbody tr th {\n        vertical-align: top;\n    }\n\n    .dataframe thead th {\n        text-align: right;\n    }\n</style>\n<table border=\"1\" class=\"dataframe\">\n  <thead>\n    <tr style=\"text-align: right;\">\n      <th>encoded_player</th>\n      <th>0</th>\n      <th>1</th>\n      <th>2</th>\n      <th>3</th>\n      <th>4</th>\n      <th>5</th>\n      <th>6</th>\n      <th>7</th>\n      <th>8</th>\n      <th>9</th>\n      <th>...</th>\n      <th>2241</th>\n      <th>2242</th>\n      <th>2243</th>\n      <th>2244</th>\n      <th>2245</th>\n      <th>2246</th>\n      <th>2247</th>\n      <th>2248</th>\n      <th>2249</th>\n      <th>2250</th>\n    </tr>\n    <tr>\n      <th>Team</th>\n      <th></th>\n      <th></th>\n      <th></th>\n      <th></th>\n      <th></th>\n      <th></th>\n      <th></th>\n      <th></th>\n      <th></th>\n      <th></th>\n      <th></th>\n      <th></th>\n      <th></th>\n      <th></th>\n      <th></th>\n      <th></th>\n      <th></th>\n      <th></th>\n      <th></th>\n      <th></th>\n      <th></th>\n    </tr>\n  </thead>\n  <tbody>\n    <tr>\n      <th>ATLAtlanta United FC2017</th>\n      <td>NaN</td>\n      <td>NaN</td>\n      <td>NaN</td>\n      <td>NaN</td>\n      <td>NaN</td>\n      <td>NaN</td>\n      <td>NaN</td>\n      <td>NaN</td>\n      <td>NaN</td>\n      <td>NaN</td>\n      <td>...</td>\n      <td>NaN</td>\n      <td>NaN</td>\n      <td>NaN</td>\n      <td>NaN</td>\n      <td>NaN</td>\n      <td>NaN</td>\n      <td>NaN</td>\n      <td>NaN</td>\n      <td>NaN</td>\n      <td>NaN</td>\n    </tr>\n    <tr>\n      <th>ATLAtlanta United FC2018</th>\n      <td>NaN</td>\n      <td>NaN</td>\n      <td>NaN</td>\n      <td>NaN</td>\n      <td>NaN</td>\n      <td>NaN</td>\n      <td>NaN</td>\n      <td>NaN</td>\n      <td>NaN</td>\n      <td>NaN</td>\n      <td>...</td>\n      <td>NaN</td>\n      <td>NaN</td>\n      <td>NaN</td>\n      <td>NaN</td>\n      <td>NaN</td>\n      <td>NaN</td>\n      <td>NaN</td>\n      <td>NaN</td>\n      <td>NaN</td>\n      <td>NaN</td>\n    </tr>\n    <tr>\n      <th>CHIChicago Fire FC2007</th>\n      <td>NaN</td>\n      <td>NaN</td>\n      <td>NaN</td>\n      <td>NaN</td>\n      <td>NaN</td>\n      <td>NaN</td>\n      <td>NaN</td>\n      <td>NaN</td>\n      <td>NaN</td>\n      <td>NaN</td>\n      <td>...</td>\n      <td>NaN</td>\n      <td>NaN</td>\n      <td>NaN</td>\n      <td>NaN</td>\n      <td>NaN</td>\n      <td>NaN</td>\n      <td>NaN</td>\n      <td>NaN</td>\n      <td>NaN</td>\n      <td>NaN</td>\n    </tr>\n    <tr>\n      <th>CHIChicago Fire FC2008</th>\n      <td>NaN</td>\n      <td>NaN</td>\n      <td>NaN</td>\n      <td>NaN</td>\n      <td>NaN</td>\n      <td>NaN</td>\n      <td>NaN</td>\n      <td>NaN</td>\n      <td>NaN</td>\n      <td>NaN</td>\n      <td>...</td>\n      <td>NaN</td>\n      <td>NaN</td>\n      <td>NaN</td>\n      <td>NaN</td>\n      <td>NaN</td>\n      <td>NaN</td>\n      <td>NaN</td>\n      <td>NaN</td>\n      <td>NaN</td>\n      <td>NaN</td>\n    </tr>\n    <tr>\n      <th>CHIChicago Fire FC2009</th>\n      <td>NaN</td>\n      <td>NaN</td>\n      <td>NaN</td>\n      <td>NaN</td>\n      <td>NaN</td>\n      <td>NaN</td>\n      <td>NaN</td>\n      <td>NaN</td>\n      <td>NaN</td>\n      <td>NaN</td>\n      <td>...</td>\n      <td>NaN</td>\n      <td>NaN</td>\n      <td>NaN</td>\n      <td>NaN</td>\n      <td>NaN</td>\n      <td>NaN</td>\n      <td>NaN</td>\n      <td>NaN</td>\n      <td>NaN</td>\n      <td>NaN</td>\n    </tr>\n    <tr>\n      <th>...</th>\n      <td>...</td>\n      <td>...</td>\n      <td>...</td>\n      <td>...</td>\n      <td>...</td>\n      <td>...</td>\n      <td>...</td>\n      <td>...</td>\n      <td>...</td>\n      <td>...</td>\n      <td>...</td>\n      <td>...</td>\n      <td>...</td>\n      <td>...</td>\n      <td>...</td>\n      <td>...</td>\n      <td>...</td>\n      <td>...</td>\n      <td>...</td>\n      <td>...</td>\n      <td>...</td>\n    </tr>\n    <tr>\n      <th>VANVancouver Whitecaps FC2014</th>\n      <td>NaN</td>\n      <td>NaN</td>\n      <td>NaN</td>\n      <td>NaN</td>\n      <td>NaN</td>\n      <td>NaN</td>\n      <td>NaN</td>\n      <td>NaN</td>\n      <td>NaN</td>\n      <td>NaN</td>\n      <td>...</td>\n      <td>NaN</td>\n      <td>NaN</td>\n      <td>NaN</td>\n      <td>NaN</td>\n      <td>NaN</td>\n      <td>NaN</td>\n      <td>NaN</td>\n      <td>NaN</td>\n      <td>NaN</td>\n      <td>NaN</td>\n    </tr>\n    <tr>\n      <th>VANVancouver Whitecaps FC2015</th>\n      <td>NaN</td>\n      <td>NaN</td>\n      <td>NaN</td>\n      <td>NaN</td>\n      <td>NaN</td>\n      <td>NaN</td>\n      <td>NaN</td>\n      <td>NaN</td>\n      <td>NaN</td>\n      <td>NaN</td>\n      <td>...</td>\n      <td>NaN</td>\n      <td>NaN</td>\n      <td>NaN</td>\n      <td>NaN</td>\n      <td>NaN</td>\n      <td>NaN</td>\n      <td>NaN</td>\n      <td>NaN</td>\n      <td>NaN</td>\n      <td>NaN</td>\n    </tr>\n    <tr>\n      <th>VANVancouver Whitecaps FC2016</th>\n      <td>NaN</td>\n      <td>NaN</td>\n      <td>NaN</td>\n      <td>NaN</td>\n      <td>NaN</td>\n      <td>NaN</td>\n      <td>NaN</td>\n      <td>NaN</td>\n      <td>NaN</td>\n      <td>NaN</td>\n      <td>...</td>\n      <td>NaN</td>\n      <td>NaN</td>\n      <td>NaN</td>\n      <td>NaN</td>\n      <td>NaN</td>\n      <td>NaN</td>\n      <td>NaN</td>\n      <td>NaN</td>\n      <td>NaN</td>\n      <td>NaN</td>\n    </tr>\n    <tr>\n      <th>VANVancouver Whitecaps FC2017</th>\n      <td>NaN</td>\n      <td>NaN</td>\n      <td>NaN</td>\n      <td>NaN</td>\n      <td>NaN</td>\n      <td>NaN</td>\n      <td>NaN</td>\n      <td>NaN</td>\n      <td>NaN</td>\n      <td>NaN</td>\n      <td>...</td>\n      <td>NaN</td>\n      <td>NaN</td>\n      <td>NaN</td>\n      <td>NaN</td>\n      <td>NaN</td>\n      <td>NaN</td>\n      <td>NaN</td>\n      <td>NaN</td>\n      <td>NaN</td>\n      <td>NaN</td>\n    </tr>\n    <tr>\n      <th>VANVancouver Whitecaps FC2018</th>\n      <td>NaN</td>\n      <td>NaN</td>\n      <td>NaN</td>\n      <td>NaN</td>\n      <td>NaN</td>\n      <td>NaN</td>\n      <td>NaN</td>\n      <td>NaN</td>\n      <td>NaN</td>\n      <td>NaN</td>\n      <td>...</td>\n      <td>NaN</td>\n      <td>NaN</td>\n      <td>NaN</td>\n      <td>NaN</td>\n      <td>NaN</td>\n      <td>NaN</td>\n      <td>NaN</td>\n      <td>NaN</td>\n      <td>NaN</td>\n      <td>NaN</td>\n    </tr>\n  </tbody>\n</table>\n<p>218 rows × 2251 columns</p>\n</div>"
     },
     "metadata": {},
     "execution_count": 63
    }
   ],
   "source": [
    "samples = dataset.pivot(index=\"Team\", columns=\"encoded_player\", values='present')\n",
    "samples"
   ]
  },
  {
   "cell_type": "code",
   "execution_count": 65,
   "metadata": {},
   "outputs": [
    {
     "output_type": "execute_result",
     "data": {
      "text/plain": "encoded_player  0     1     2     3     4     5     6     7     8     9     \\\ncount            2.0  10.0   4.0   1.0   2.0   1.0   4.0   3.0   1.0   5.0   \nmean             1.0   1.0   1.0   1.0   1.0   1.0   1.0   1.0   1.0   1.0   \nstd              0.0   0.0   0.0   NaN   0.0   NaN   0.0   0.0   NaN   0.0   \nmin              1.0   1.0   1.0   1.0   1.0   1.0   1.0   1.0   1.0   1.0   \n25%              1.0   1.0   1.0   1.0   1.0   1.0   1.0   1.0   1.0   1.0   \n50%              1.0   1.0   1.0   1.0   1.0   1.0   1.0   1.0   1.0   1.0   \n75%              1.0   1.0   1.0   1.0   1.0   1.0   1.0   1.0   1.0   1.0   \nmax              1.0   1.0   1.0   1.0   1.0   1.0   1.0   1.0   1.0   1.0   \n\nencoded_player  ...  2241  2242  2243  2244  2245  2246  2247  2248  2249  \\\ncount           ...   2.0   1.0   2.0   6.0   1.0   1.0   1.0   2.0   2.0   \nmean            ...   1.0   1.0   1.0   1.0   1.0   1.0   1.0   1.0   1.0   \nstd             ...   0.0   NaN   0.0   0.0   NaN   NaN   NaN   0.0   0.0   \nmin             ...   1.0   1.0   1.0   1.0   1.0   1.0   1.0   1.0   1.0   \n25%             ...   1.0   1.0   1.0   1.0   1.0   1.0   1.0   1.0   1.0   \n50%             ...   1.0   1.0   1.0   1.0   1.0   1.0   1.0   1.0   1.0   \n75%             ...   1.0   1.0   1.0   1.0   1.0   1.0   1.0   1.0   1.0   \nmax             ...   1.0   1.0   1.0   1.0   1.0   1.0   1.0   1.0   1.0   \n\nencoded_player  2250  \ncount            4.0  \nmean             1.0  \nstd              0.0  \nmin              1.0  \n25%              1.0  \n50%              1.0  \n75%              1.0  \nmax              1.0  \n\n[8 rows x 2251 columns]",
      "text/html": "<div>\n<style scoped>\n    .dataframe tbody tr th:only-of-type {\n        vertical-align: middle;\n    }\n\n    .dataframe tbody tr th {\n        vertical-align: top;\n    }\n\n    .dataframe thead th {\n        text-align: right;\n    }\n</style>\n<table border=\"1\" class=\"dataframe\">\n  <thead>\n    <tr style=\"text-align: right;\">\n      <th>encoded_player</th>\n      <th>0</th>\n      <th>1</th>\n      <th>2</th>\n      <th>3</th>\n      <th>4</th>\n      <th>5</th>\n      <th>6</th>\n      <th>7</th>\n      <th>8</th>\n      <th>9</th>\n      <th>...</th>\n      <th>2241</th>\n      <th>2242</th>\n      <th>2243</th>\n      <th>2244</th>\n      <th>2245</th>\n      <th>2246</th>\n      <th>2247</th>\n      <th>2248</th>\n      <th>2249</th>\n      <th>2250</th>\n    </tr>\n  </thead>\n  <tbody>\n    <tr>\n      <th>count</th>\n      <td>2.0</td>\n      <td>10.0</td>\n      <td>4.0</td>\n      <td>1.0</td>\n      <td>2.0</td>\n      <td>1.0</td>\n      <td>4.0</td>\n      <td>3.0</td>\n      <td>1.0</td>\n      <td>5.0</td>\n      <td>...</td>\n      <td>2.0</td>\n      <td>1.0</td>\n      <td>2.0</td>\n      <td>6.0</td>\n      <td>1.0</td>\n      <td>1.0</td>\n      <td>1.0</td>\n      <td>2.0</td>\n      <td>2.0</td>\n      <td>4.0</td>\n    </tr>\n    <tr>\n      <th>mean</th>\n      <td>1.0</td>\n      <td>1.0</td>\n      <td>1.0</td>\n      <td>1.0</td>\n      <td>1.0</td>\n      <td>1.0</td>\n      <td>1.0</td>\n      <td>1.0</td>\n      <td>1.0</td>\n      <td>1.0</td>\n      <td>...</td>\n      <td>1.0</td>\n      <td>1.0</td>\n      <td>1.0</td>\n      <td>1.0</td>\n      <td>1.0</td>\n      <td>1.0</td>\n      <td>1.0</td>\n      <td>1.0</td>\n      <td>1.0</td>\n      <td>1.0</td>\n    </tr>\n    <tr>\n      <th>std</th>\n      <td>0.0</td>\n      <td>0.0</td>\n      <td>0.0</td>\n      <td>NaN</td>\n      <td>0.0</td>\n      <td>NaN</td>\n      <td>0.0</td>\n      <td>0.0</td>\n      <td>NaN</td>\n      <td>0.0</td>\n      <td>...</td>\n      <td>0.0</td>\n      <td>NaN</td>\n      <td>0.0</td>\n      <td>0.0</td>\n      <td>NaN</td>\n      <td>NaN</td>\n      <td>NaN</td>\n      <td>0.0</td>\n      <td>0.0</td>\n      <td>0.0</td>\n    </tr>\n    <tr>\n      <th>min</th>\n      <td>1.0</td>\n      <td>1.0</td>\n      <td>1.0</td>\n      <td>1.0</td>\n      <td>1.0</td>\n      <td>1.0</td>\n      <td>1.0</td>\n      <td>1.0</td>\n      <td>1.0</td>\n      <td>1.0</td>\n      <td>...</td>\n      <td>1.0</td>\n      <td>1.0</td>\n      <td>1.0</td>\n      <td>1.0</td>\n      <td>1.0</td>\n      <td>1.0</td>\n      <td>1.0</td>\n      <td>1.0</td>\n      <td>1.0</td>\n      <td>1.0</td>\n    </tr>\n    <tr>\n      <th>25%</th>\n      <td>1.0</td>\n      <td>1.0</td>\n      <td>1.0</td>\n      <td>1.0</td>\n      <td>1.0</td>\n      <td>1.0</td>\n      <td>1.0</td>\n      <td>1.0</td>\n      <td>1.0</td>\n      <td>1.0</td>\n      <td>...</td>\n      <td>1.0</td>\n      <td>1.0</td>\n      <td>1.0</td>\n      <td>1.0</td>\n      <td>1.0</td>\n      <td>1.0</td>\n      <td>1.0</td>\n      <td>1.0</td>\n      <td>1.0</td>\n      <td>1.0</td>\n    </tr>\n    <tr>\n      <th>50%</th>\n      <td>1.0</td>\n      <td>1.0</td>\n      <td>1.0</td>\n      <td>1.0</td>\n      <td>1.0</td>\n      <td>1.0</td>\n      <td>1.0</td>\n      <td>1.0</td>\n      <td>1.0</td>\n      <td>1.0</td>\n      <td>...</td>\n      <td>1.0</td>\n      <td>1.0</td>\n      <td>1.0</td>\n      <td>1.0</td>\n      <td>1.0</td>\n      <td>1.0</td>\n      <td>1.0</td>\n      <td>1.0</td>\n      <td>1.0</td>\n      <td>1.0</td>\n    </tr>\n    <tr>\n      <th>75%</th>\n      <td>1.0</td>\n      <td>1.0</td>\n      <td>1.0</td>\n      <td>1.0</td>\n      <td>1.0</td>\n      <td>1.0</td>\n      <td>1.0</td>\n      <td>1.0</td>\n      <td>1.0</td>\n      <td>1.0</td>\n      <td>...</td>\n      <td>1.0</td>\n      <td>1.0</td>\n      <td>1.0</td>\n      <td>1.0</td>\n      <td>1.0</td>\n      <td>1.0</td>\n      <td>1.0</td>\n      <td>1.0</td>\n      <td>1.0</td>\n      <td>1.0</td>\n    </tr>\n    <tr>\n      <th>max</th>\n      <td>1.0</td>\n      <td>1.0</td>\n      <td>1.0</td>\n      <td>1.0</td>\n      <td>1.0</td>\n      <td>1.0</td>\n      <td>1.0</td>\n      <td>1.0</td>\n      <td>1.0</td>\n      <td>1.0</td>\n      <td>...</td>\n      <td>1.0</td>\n      <td>1.0</td>\n      <td>1.0</td>\n      <td>1.0</td>\n      <td>1.0</td>\n      <td>1.0</td>\n      <td>1.0</td>\n      <td>1.0</td>\n      <td>1.0</td>\n      <td>1.0</td>\n    </tr>\n  </tbody>\n</table>\n<p>8 rows × 2251 columns</p>\n</div>"
     },
     "metadata": {},
     "execution_count": 65
    }
   ],
   "source": [
    "samples.describe()"
   ]
  },
  {
   "cell_type": "code",
   "execution_count": 78,
   "metadata": {},
   "outputs": [
    {
     "output_type": "execute_result",
     "data": {
      "text/plain": "encoded_player                 0     1     2     3     4     5     6     7     \\\nTeam                                                                            \nATLAtlanta United FC2017        NaN   NaN   NaN   NaN   NaN   NaN   NaN   NaN   \nATLAtlanta United FC2018        NaN   NaN   NaN   NaN   NaN   NaN   NaN   NaN   \nCHIChicago Fire FC2007          NaN   NaN   NaN   NaN   NaN   NaN   NaN   NaN   \nCHIChicago Fire FC2008          NaN   NaN   NaN   NaN   NaN   NaN   NaN   NaN   \nCHIChicago Fire FC2009          NaN   NaN   NaN   NaN   NaN   NaN   NaN   NaN   \n...                             ...   ...   ...   ...   ...   ...   ...   ...   \nVANVancouver Whitecaps FC2014   NaN   NaN   NaN   NaN   NaN   NaN   NaN   NaN   \nVANVancouver Whitecaps FC2015   NaN   NaN   NaN   NaN   NaN   NaN   NaN   NaN   \nVANVancouver Whitecaps FC2016   NaN   NaN   NaN   NaN   NaN   NaN   NaN   NaN   \nVANVancouver Whitecaps FC2017   NaN   NaN   NaN   NaN   NaN   NaN   NaN   NaN   \nVANVancouver Whitecaps FC2018   NaN   NaN   NaN   NaN   NaN   NaN   NaN   NaN   \n\nencoded_player                 8     9     ...  2241  2242  2243  2244  2245  \\\nTeam                                       ...                                 \nATLAtlanta United FC2017        NaN   NaN  ...   NaN   NaN   NaN   NaN   NaN   \nATLAtlanta United FC2018        NaN   NaN  ...   NaN   NaN   NaN   NaN   NaN   \nCHIChicago Fire FC2007          NaN   NaN  ...   NaN   NaN   NaN   NaN   NaN   \nCHIChicago Fire FC2008          NaN   NaN  ...   NaN   NaN   NaN   NaN   NaN   \nCHIChicago Fire FC2009          NaN   NaN  ...   NaN   NaN   NaN   NaN   NaN   \n...                             ...   ...  ...   ...   ...   ...   ...   ...   \nVANVancouver Whitecaps FC2014   NaN   NaN  ...   NaN   NaN   NaN   NaN   NaN   \nVANVancouver Whitecaps FC2015   NaN   NaN  ...   NaN   NaN   NaN   NaN   NaN   \nVANVancouver Whitecaps FC2016   NaN   NaN  ...   NaN   NaN   NaN   NaN   NaN   \nVANVancouver Whitecaps FC2017   NaN   NaN  ...   NaN   NaN   NaN   NaN   NaN   \nVANVancouver Whitecaps FC2018   NaN   NaN  ...   NaN   NaN   NaN   NaN   NaN   \n\nencoded_player                 2246  2247  2248  2249  2250  \nTeam                                                         \nATLAtlanta United FC2017        NaN   NaN   NaN   NaN   NaN  \nATLAtlanta United FC2018        NaN   NaN   NaN   NaN   NaN  \nCHIChicago Fire FC2007          NaN   NaN   NaN   NaN   NaN  \nCHIChicago Fire FC2008          NaN   NaN   NaN   NaN   NaN  \nCHIChicago Fire FC2009          NaN   NaN   NaN   NaN   NaN  \n...                             ...   ...   ...   ...   ...  \nVANVancouver Whitecaps FC2014   NaN   NaN   NaN   NaN   NaN  \nVANVancouver Whitecaps FC2015   NaN   NaN   NaN   NaN   NaN  \nVANVancouver Whitecaps FC2016   NaN   NaN   NaN   NaN   NaN  \nVANVancouver Whitecaps FC2017   NaN   NaN   NaN   NaN   NaN  \nVANVancouver Whitecaps FC2018   NaN   NaN   NaN   NaN   NaN  \n\n[218 rows x 2251 columns]",
      "text/html": "<div>\n<style scoped>\n    .dataframe tbody tr th:only-of-type {\n        vertical-align: middle;\n    }\n\n    .dataframe tbody tr th {\n        vertical-align: top;\n    }\n\n    .dataframe thead th {\n        text-align: right;\n    }\n</style>\n<table border=\"1\" class=\"dataframe\">\n  <thead>\n    <tr style=\"text-align: right;\">\n      <th>encoded_player</th>\n      <th>0</th>\n      <th>1</th>\n      <th>2</th>\n      <th>3</th>\n      <th>4</th>\n      <th>5</th>\n      <th>6</th>\n      <th>7</th>\n      <th>8</th>\n      <th>9</th>\n      <th>...</th>\n      <th>2241</th>\n      <th>2242</th>\n      <th>2243</th>\n      <th>2244</th>\n      <th>2245</th>\n      <th>2246</th>\n      <th>2247</th>\n      <th>2248</th>\n      <th>2249</th>\n      <th>2250</th>\n    </tr>\n    <tr>\n      <th>Team</th>\n      <th></th>\n      <th></th>\n      <th></th>\n      <th></th>\n      <th></th>\n      <th></th>\n      <th></th>\n      <th></th>\n      <th></th>\n      <th></th>\n      <th></th>\n      <th></th>\n      <th></th>\n      <th></th>\n      <th></th>\n      <th></th>\n      <th></th>\n      <th></th>\n      <th></th>\n      <th></th>\n      <th></th>\n    </tr>\n  </thead>\n  <tbody>\n    <tr>\n      <th>ATLAtlanta United FC2017</th>\n      <td>NaN</td>\n      <td>NaN</td>\n      <td>NaN</td>\n      <td>NaN</td>\n      <td>NaN</td>\n      <td>NaN</td>\n      <td>NaN</td>\n      <td>NaN</td>\n      <td>NaN</td>\n      <td>NaN</td>\n      <td>...</td>\n      <td>NaN</td>\n      <td>NaN</td>\n      <td>NaN</td>\n      <td>NaN</td>\n      <td>NaN</td>\n      <td>NaN</td>\n      <td>NaN</td>\n      <td>NaN</td>\n      <td>NaN</td>\n      <td>NaN</td>\n    </tr>\n    <tr>\n      <th>ATLAtlanta United FC2018</th>\n      <td>NaN</td>\n      <td>NaN</td>\n      <td>NaN</td>\n      <td>NaN</td>\n      <td>NaN</td>\n      <td>NaN</td>\n      <td>NaN</td>\n      <td>NaN</td>\n      <td>NaN</td>\n      <td>NaN</td>\n      <td>...</td>\n      <td>NaN</td>\n      <td>NaN</td>\n      <td>NaN</td>\n      <td>NaN</td>\n      <td>NaN</td>\n      <td>NaN</td>\n      <td>NaN</td>\n      <td>NaN</td>\n      <td>NaN</td>\n      <td>NaN</td>\n    </tr>\n    <tr>\n      <th>CHIChicago Fire FC2007</th>\n      <td>NaN</td>\n      <td>NaN</td>\n      <td>NaN</td>\n      <td>NaN</td>\n      <td>NaN</td>\n      <td>NaN</td>\n      <td>NaN</td>\n      <td>NaN</td>\n      <td>NaN</td>\n      <td>NaN</td>\n      <td>...</td>\n      <td>NaN</td>\n      <td>NaN</td>\n      <td>NaN</td>\n      <td>NaN</td>\n      <td>NaN</td>\n      <td>NaN</td>\n      <td>NaN</td>\n      <td>NaN</td>\n      <td>NaN</td>\n      <td>NaN</td>\n    </tr>\n    <tr>\n      <th>CHIChicago Fire FC2008</th>\n      <td>NaN</td>\n      <td>NaN</td>\n      <td>NaN</td>\n      <td>NaN</td>\n      <td>NaN</td>\n      <td>NaN</td>\n      <td>NaN</td>\n      <td>NaN</td>\n      <td>NaN</td>\n      <td>NaN</td>\n      <td>...</td>\n      <td>NaN</td>\n      <td>NaN</td>\n      <td>NaN</td>\n      <td>NaN</td>\n      <td>NaN</td>\n      <td>NaN</td>\n      <td>NaN</td>\n      <td>NaN</td>\n      <td>NaN</td>\n      <td>NaN</td>\n    </tr>\n    <tr>\n      <th>CHIChicago Fire FC2009</th>\n      <td>NaN</td>\n      <td>NaN</td>\n      <td>NaN</td>\n      <td>NaN</td>\n      <td>NaN</td>\n      <td>NaN</td>\n      <td>NaN</td>\n      <td>NaN</td>\n      <td>NaN</td>\n      <td>NaN</td>\n      <td>...</td>\n      <td>NaN</td>\n      <td>NaN</td>\n      <td>NaN</td>\n      <td>NaN</td>\n      <td>NaN</td>\n      <td>NaN</td>\n      <td>NaN</td>\n      <td>NaN</td>\n      <td>NaN</td>\n      <td>NaN</td>\n    </tr>\n    <tr>\n      <th>...</th>\n      <td>...</td>\n      <td>...</td>\n      <td>...</td>\n      <td>...</td>\n      <td>...</td>\n      <td>...</td>\n      <td>...</td>\n      <td>...</td>\n      <td>...</td>\n      <td>...</td>\n      <td>...</td>\n      <td>...</td>\n      <td>...</td>\n      <td>...</td>\n      <td>...</td>\n      <td>...</td>\n      <td>...</td>\n      <td>...</td>\n      <td>...</td>\n      <td>...</td>\n      <td>...</td>\n    </tr>\n    <tr>\n      <th>VANVancouver Whitecaps FC2014</th>\n      <td>NaN</td>\n      <td>NaN</td>\n      <td>NaN</td>\n      <td>NaN</td>\n      <td>NaN</td>\n      <td>NaN</td>\n      <td>NaN</td>\n      <td>NaN</td>\n      <td>NaN</td>\n      <td>NaN</td>\n      <td>...</td>\n      <td>NaN</td>\n      <td>NaN</td>\n      <td>NaN</td>\n      <td>NaN</td>\n      <td>NaN</td>\n      <td>NaN</td>\n      <td>NaN</td>\n      <td>NaN</td>\n      <td>NaN</td>\n      <td>NaN</td>\n    </tr>\n    <tr>\n      <th>VANVancouver Whitecaps FC2015</th>\n      <td>NaN</td>\n      <td>NaN</td>\n      <td>NaN</td>\n      <td>NaN</td>\n      <td>NaN</td>\n      <td>NaN</td>\n      <td>NaN</td>\n      <td>NaN</td>\n      <td>NaN</td>\n      <td>NaN</td>\n      <td>...</td>\n      <td>NaN</td>\n      <td>NaN</td>\n      <td>NaN</td>\n      <td>NaN</td>\n      <td>NaN</td>\n      <td>NaN</td>\n      <td>NaN</td>\n      <td>NaN</td>\n      <td>NaN</td>\n      <td>NaN</td>\n    </tr>\n    <tr>\n      <th>VANVancouver Whitecaps FC2016</th>\n      <td>NaN</td>\n      <td>NaN</td>\n      <td>NaN</td>\n      <td>NaN</td>\n      <td>NaN</td>\n      <td>NaN</td>\n      <td>NaN</td>\n      <td>NaN</td>\n      <td>NaN</td>\n      <td>NaN</td>\n      <td>...</td>\n      <td>NaN</td>\n      <td>NaN</td>\n      <td>NaN</td>\n      <td>NaN</td>\n      <td>NaN</td>\n      <td>NaN</td>\n      <td>NaN</td>\n      <td>NaN</td>\n      <td>NaN</td>\n      <td>NaN</td>\n    </tr>\n    <tr>\n      <th>VANVancouver Whitecaps FC2017</th>\n      <td>NaN</td>\n      <td>NaN</td>\n      <td>NaN</td>\n      <td>NaN</td>\n      <td>NaN</td>\n      <td>NaN</td>\n      <td>NaN</td>\n      <td>NaN</td>\n      <td>NaN</td>\n      <td>NaN</td>\n      <td>...</td>\n      <td>NaN</td>\n      <td>NaN</td>\n      <td>NaN</td>\n      <td>NaN</td>\n      <td>NaN</td>\n      <td>NaN</td>\n      <td>NaN</td>\n      <td>NaN</td>\n      <td>NaN</td>\n      <td>NaN</td>\n    </tr>\n    <tr>\n      <th>VANVancouver Whitecaps FC2018</th>\n      <td>NaN</td>\n      <td>NaN</td>\n      <td>NaN</td>\n      <td>NaN</td>\n      <td>NaN</td>\n      <td>NaN</td>\n      <td>NaN</td>\n      <td>NaN</td>\n      <td>NaN</td>\n      <td>NaN</td>\n      <td>...</td>\n      <td>NaN</td>\n      <td>NaN</td>\n      <td>NaN</td>\n      <td>NaN</td>\n      <td>NaN</td>\n      <td>NaN</td>\n      <td>NaN</td>\n      <td>NaN</td>\n      <td>NaN</td>\n      <td>NaN</td>\n    </tr>\n  </tbody>\n</table>\n<p>218 rows × 2251 columns</p>\n</div>"
     },
     "metadata": {},
     "execution_count": 78
    }
   ],
   "source": [
    "experiences = dataset.pivot(index=\"Team\", columns=\"encoded_player\", values='Experience')\n",
    "experiences"
   ]
  },
  {
   "cell_type": "code",
   "execution_count": 79,
   "metadata": {},
   "outputs": [
    {
     "output_type": "execute_result",
     "data": {
      "text/plain": "encoded_player      0         1         2     3         4     5         6     \\\ncount           2.000000  10.00000  4.000000   1.0  2.000000   1.0  4.000000   \nmean            1.500000   5.50000  2.500000   1.0  1.500000   1.0  2.500000   \nstd             0.707107   3.02765  1.290994   NaN  0.707107   NaN  1.290994   \nmin             1.000000   1.00000  1.000000   1.0  1.000000   1.0  1.000000   \n25%             1.250000   3.25000  1.750000   1.0  1.250000   1.0  1.750000   \n50%             1.500000   5.50000  2.500000   1.0  1.500000   1.0  2.500000   \n75%             1.750000   7.75000  3.250000   1.0  1.750000   1.0  3.250000   \nmax             2.000000  10.00000  4.000000   1.0  2.000000   1.0  4.000000   \n\nencoded_player  7     8         9     ...      2241  2242      2243      2244  \\\ncount            3.0   1.0  5.000000  ...  2.000000   1.0  2.000000  6.000000   \nmean             2.0   1.0  3.000000  ...  1.500000   1.0  1.500000  3.500000   \nstd              1.0   NaN  1.581139  ...  0.707107   NaN  0.707107  1.870829   \nmin              1.0   1.0  1.000000  ...  1.000000   1.0  1.000000  1.000000   \n25%              1.5   1.0  2.000000  ...  1.250000   1.0  1.250000  2.250000   \n50%              2.0   1.0  3.000000  ...  1.500000   1.0  1.500000  3.500000   \n75%              2.5   1.0  4.000000  ...  1.750000   1.0  1.750000  4.750000   \nmax              3.0   1.0  5.000000  ...  2.000000   1.0  2.000000  6.000000   \n\nencoded_player  2245  2246  2247      2248      2249  2250  \ncount            1.0   1.0   1.0  2.000000  2.000000   0.0  \nmean             1.0   1.0   1.0  1.500000  1.500000   NaN  \nstd              NaN   NaN   NaN  0.707107  0.707107   NaN  \nmin              1.0   1.0   1.0  1.000000  1.000000   NaN  \n25%              1.0   1.0   1.0  1.250000  1.250000   NaN  \n50%              1.0   1.0   1.0  1.500000  1.500000   NaN  \n75%              1.0   1.0   1.0  1.750000  1.750000   NaN  \nmax              1.0   1.0   1.0  2.000000  2.000000   NaN  \n\n[8 rows x 2251 columns]",
      "text/html": "<div>\n<style scoped>\n    .dataframe tbody tr th:only-of-type {\n        vertical-align: middle;\n    }\n\n    .dataframe tbody tr th {\n        vertical-align: top;\n    }\n\n    .dataframe thead th {\n        text-align: right;\n    }\n</style>\n<table border=\"1\" class=\"dataframe\">\n  <thead>\n    <tr style=\"text-align: right;\">\n      <th>encoded_player</th>\n      <th>0</th>\n      <th>1</th>\n      <th>2</th>\n      <th>3</th>\n      <th>4</th>\n      <th>5</th>\n      <th>6</th>\n      <th>7</th>\n      <th>8</th>\n      <th>9</th>\n      <th>...</th>\n      <th>2241</th>\n      <th>2242</th>\n      <th>2243</th>\n      <th>2244</th>\n      <th>2245</th>\n      <th>2246</th>\n      <th>2247</th>\n      <th>2248</th>\n      <th>2249</th>\n      <th>2250</th>\n    </tr>\n  </thead>\n  <tbody>\n    <tr>\n      <th>count</th>\n      <td>2.000000</td>\n      <td>10.00000</td>\n      <td>4.000000</td>\n      <td>1.0</td>\n      <td>2.000000</td>\n      <td>1.0</td>\n      <td>4.000000</td>\n      <td>3.0</td>\n      <td>1.0</td>\n      <td>5.000000</td>\n      <td>...</td>\n      <td>2.000000</td>\n      <td>1.0</td>\n      <td>2.000000</td>\n      <td>6.000000</td>\n      <td>1.0</td>\n      <td>1.0</td>\n      <td>1.0</td>\n      <td>2.000000</td>\n      <td>2.000000</td>\n      <td>0.0</td>\n    </tr>\n    <tr>\n      <th>mean</th>\n      <td>1.500000</td>\n      <td>5.50000</td>\n      <td>2.500000</td>\n      <td>1.0</td>\n      <td>1.500000</td>\n      <td>1.0</td>\n      <td>2.500000</td>\n      <td>2.0</td>\n      <td>1.0</td>\n      <td>3.000000</td>\n      <td>...</td>\n      <td>1.500000</td>\n      <td>1.0</td>\n      <td>1.500000</td>\n      <td>3.500000</td>\n      <td>1.0</td>\n      <td>1.0</td>\n      <td>1.0</td>\n      <td>1.500000</td>\n      <td>1.500000</td>\n      <td>NaN</td>\n    </tr>\n    <tr>\n      <th>std</th>\n      <td>0.707107</td>\n      <td>3.02765</td>\n      <td>1.290994</td>\n      <td>NaN</td>\n      <td>0.707107</td>\n      <td>NaN</td>\n      <td>1.290994</td>\n      <td>1.0</td>\n      <td>NaN</td>\n      <td>1.581139</td>\n      <td>...</td>\n      <td>0.707107</td>\n      <td>NaN</td>\n      <td>0.707107</td>\n      <td>1.870829</td>\n      <td>NaN</td>\n      <td>NaN</td>\n      <td>NaN</td>\n      <td>0.707107</td>\n      <td>0.707107</td>\n      <td>NaN</td>\n    </tr>\n    <tr>\n      <th>min</th>\n      <td>1.000000</td>\n      <td>1.00000</td>\n      <td>1.000000</td>\n      <td>1.0</td>\n      <td>1.000000</td>\n      <td>1.0</td>\n      <td>1.000000</td>\n      <td>1.0</td>\n      <td>1.0</td>\n      <td>1.000000</td>\n      <td>...</td>\n      <td>1.000000</td>\n      <td>1.0</td>\n      <td>1.000000</td>\n      <td>1.000000</td>\n      <td>1.0</td>\n      <td>1.0</td>\n      <td>1.0</td>\n      <td>1.000000</td>\n      <td>1.000000</td>\n      <td>NaN</td>\n    </tr>\n    <tr>\n      <th>25%</th>\n      <td>1.250000</td>\n      <td>3.25000</td>\n      <td>1.750000</td>\n      <td>1.0</td>\n      <td>1.250000</td>\n      <td>1.0</td>\n      <td>1.750000</td>\n      <td>1.5</td>\n      <td>1.0</td>\n      <td>2.000000</td>\n      <td>...</td>\n      <td>1.250000</td>\n      <td>1.0</td>\n      <td>1.250000</td>\n      <td>2.250000</td>\n      <td>1.0</td>\n      <td>1.0</td>\n      <td>1.0</td>\n      <td>1.250000</td>\n      <td>1.250000</td>\n      <td>NaN</td>\n    </tr>\n    <tr>\n      <th>50%</th>\n      <td>1.500000</td>\n      <td>5.50000</td>\n      <td>2.500000</td>\n      <td>1.0</td>\n      <td>1.500000</td>\n      <td>1.0</td>\n      <td>2.500000</td>\n      <td>2.0</td>\n      <td>1.0</td>\n      <td>3.000000</td>\n      <td>...</td>\n      <td>1.500000</td>\n      <td>1.0</td>\n      <td>1.500000</td>\n      <td>3.500000</td>\n      <td>1.0</td>\n      <td>1.0</td>\n      <td>1.0</td>\n      <td>1.500000</td>\n      <td>1.500000</td>\n      <td>NaN</td>\n    </tr>\n    <tr>\n      <th>75%</th>\n      <td>1.750000</td>\n      <td>7.75000</td>\n      <td>3.250000</td>\n      <td>1.0</td>\n      <td>1.750000</td>\n      <td>1.0</td>\n      <td>3.250000</td>\n      <td>2.5</td>\n      <td>1.0</td>\n      <td>4.000000</td>\n      <td>...</td>\n      <td>1.750000</td>\n      <td>1.0</td>\n      <td>1.750000</td>\n      <td>4.750000</td>\n      <td>1.0</td>\n      <td>1.0</td>\n      <td>1.0</td>\n      <td>1.750000</td>\n      <td>1.750000</td>\n      <td>NaN</td>\n    </tr>\n    <tr>\n      <th>max</th>\n      <td>2.000000</td>\n      <td>10.00000</td>\n      <td>4.000000</td>\n      <td>1.0</td>\n      <td>2.000000</td>\n      <td>1.0</td>\n      <td>4.000000</td>\n      <td>3.0</td>\n      <td>1.0</td>\n      <td>5.000000</td>\n      <td>...</td>\n      <td>2.000000</td>\n      <td>1.0</td>\n      <td>2.000000</td>\n      <td>6.000000</td>\n      <td>1.0</td>\n      <td>1.0</td>\n      <td>1.0</td>\n      <td>2.000000</td>\n      <td>2.000000</td>\n      <td>NaN</td>\n    </tr>\n  </tbody>\n</table>\n<p>8 rows × 2251 columns</p>\n</div>"
     },
     "metadata": {},
     "execution_count": 79
    }
   ],
   "source": [
    "experiences.describe()"
   ]
  },
  {
   "cell_type": "code",
   "execution_count": 67,
   "metadata": {},
   "outputs": [
    {
     "output_type": "execute_result",
     "data": {
      "text/plain": "Team\nATLAtlanta United FC2017          4.0\nATLAtlanta United FC2018          2.0\nCHIChicago Fire FC2007            8.0\nCHIChicago Fire FC2008            3.0\nCHIChicago Fire FC2009            6.0\n                                 ... \nVANVancouver Whitecaps FC2014     9.0\nVANVancouver Whitecaps FC2015     3.0\nVANVancouver Whitecaps FC2016    16.0\nVANVancouver Whitecaps FC2017     8.0\nVANVancouver Whitecaps FC2018    14.0\nName: Standing, Length: 218, dtype: float64"
     },
     "metadata": {},
     "execution_count": 67
    }
   ],
   "source": [
    "dataset['Standing'] = dataset['Standing'].astype(int)\n",
    "dataset['PTS'] = dataset['PTS'].astype(int)\n",
    "y = dataset.groupby('Team').mean()['Standing'].sort_index()\n",
    "y"
   ]
  },
  {
   "cell_type": "code",
   "execution_count": 68,
   "metadata": {},
   "outputs": [],
   "source": [
    "from numpy.random import seed\n",
    "seed(1)\n",
    "from tensorflow import random\n",
    "random.set_seed(1)\n",
    "%matplotlib inline\n",
    "import matplotlib.pyplot as plt\n",
    "import numpy as np\n",
    "import sklearn\n",
    "import sklearn.datasets"
   ]
  },
  {
   "cell_type": "code",
   "execution_count": 80,
   "metadata": {},
   "outputs": [
    {
     "output_type": "execute_result",
     "data": {
      "text/plain": "encoded_player                   0    1    2    3    4    5    6    7    8  \\\nTeam                                                                         \nATLAtlanta United FC2017       0.0  0.0  0.0  0.0  0.0  0.0  0.0  0.0  0.0   \nATLAtlanta United FC2018       0.0  0.0  0.0  0.0  0.0  0.0  0.0  0.0  0.0   \nCHIChicago Fire FC2007         0.0  0.0  0.0  0.0  0.0  0.0  0.0  0.0  0.0   \nCHIChicago Fire FC2008         0.0  0.0  0.0  0.0  0.0  0.0  0.0  0.0  0.0   \nCHIChicago Fire FC2009         0.0  0.0  0.0  0.0  0.0  0.0  0.0  0.0  0.0   \n...                            ...  ...  ...  ...  ...  ...  ...  ...  ...   \nVANVancouver Whitecaps FC2014  0.0  0.0  0.0  0.0  0.0  0.0  0.0  0.0  0.0   \nVANVancouver Whitecaps FC2015  0.0  0.0  0.0  0.0  0.0  0.0  0.0  0.0  0.0   \nVANVancouver Whitecaps FC2016  0.0  0.0  0.0  0.0  0.0  0.0  0.0  0.0  0.0   \nVANVancouver Whitecaps FC2017  0.0  0.0  0.0  0.0  0.0  0.0  0.0  0.0  0.0   \nVANVancouver Whitecaps FC2018  0.0  0.0  0.0  0.0  0.0  0.0  0.0  0.0  0.0   \n\nencoded_player                   9  ...  2241e  2242e  2243e  2244e  2245e  \\\nTeam                                ...                                      \nATLAtlanta United FC2017       0.0  ...    0.0    0.0    0.0    0.0    0.0   \nATLAtlanta United FC2018       0.0  ...    0.0    0.0    0.0    0.0    0.0   \nCHIChicago Fire FC2007         0.0  ...    0.0    0.0    0.0    0.0    0.0   \nCHIChicago Fire FC2008         0.0  ...    0.0    0.0    0.0    0.0    0.0   \nCHIChicago Fire FC2009         0.0  ...    0.0    0.0    0.0    0.0    0.0   \n...                            ...  ...    ...    ...    ...    ...    ...   \nVANVancouver Whitecaps FC2014  0.0  ...    0.0    0.0    0.0    0.0    0.0   \nVANVancouver Whitecaps FC2015  0.0  ...    0.0    0.0    0.0    0.0    0.0   \nVANVancouver Whitecaps FC2016  0.0  ...    0.0    0.0    0.0    0.0    0.0   \nVANVancouver Whitecaps FC2017  0.0  ...    0.0    0.0    0.0    0.0    0.0   \nVANVancouver Whitecaps FC2018  0.0  ...    0.0    0.0    0.0    0.0    0.0   \n\nencoded_player                 2246e  2247e  2248e  2249e  2250e  \nTeam                                                              \nATLAtlanta United FC2017         0.0    0.0    0.0    0.0    0.0  \nATLAtlanta United FC2018         0.0    0.0    0.0    0.0    0.0  \nCHIChicago Fire FC2007           0.0    0.0    0.0    0.0    0.0  \nCHIChicago Fire FC2008           0.0    0.0    0.0    0.0    0.0  \nCHIChicago Fire FC2009           0.0    0.0    0.0    0.0    0.0  \n...                              ...    ...    ...    ...    ...  \nVANVancouver Whitecaps FC2014    0.0    0.0    0.0    0.0    0.0  \nVANVancouver Whitecaps FC2015    0.0    0.0    0.0    0.0    0.0  \nVANVancouver Whitecaps FC2016    0.0    0.0    0.0    0.0    0.0  \nVANVancouver Whitecaps FC2017    0.0    0.0    0.0    0.0    0.0  \nVANVancouver Whitecaps FC2018    0.0    0.0    0.0    0.0    0.0  \n\n[218 rows x 4502 columns]",
      "text/html": "<div>\n<style scoped>\n    .dataframe tbody tr th:only-of-type {\n        vertical-align: middle;\n    }\n\n    .dataframe tbody tr th {\n        vertical-align: top;\n    }\n\n    .dataframe thead th {\n        text-align: right;\n    }\n</style>\n<table border=\"1\" class=\"dataframe\">\n  <thead>\n    <tr style=\"text-align: right;\">\n      <th>encoded_player</th>\n      <th>0</th>\n      <th>1</th>\n      <th>2</th>\n      <th>3</th>\n      <th>4</th>\n      <th>5</th>\n      <th>6</th>\n      <th>7</th>\n      <th>8</th>\n      <th>9</th>\n      <th>...</th>\n      <th>2241e</th>\n      <th>2242e</th>\n      <th>2243e</th>\n      <th>2244e</th>\n      <th>2245e</th>\n      <th>2246e</th>\n      <th>2247e</th>\n      <th>2248e</th>\n      <th>2249e</th>\n      <th>2250e</th>\n    </tr>\n    <tr>\n      <th>Team</th>\n      <th></th>\n      <th></th>\n      <th></th>\n      <th></th>\n      <th></th>\n      <th></th>\n      <th></th>\n      <th></th>\n      <th></th>\n      <th></th>\n      <th></th>\n      <th></th>\n      <th></th>\n      <th></th>\n      <th></th>\n      <th></th>\n      <th></th>\n      <th></th>\n      <th></th>\n      <th></th>\n      <th></th>\n    </tr>\n  </thead>\n  <tbody>\n    <tr>\n      <th>ATLAtlanta United FC2017</th>\n      <td>0.0</td>\n      <td>0.0</td>\n      <td>0.0</td>\n      <td>0.0</td>\n      <td>0.0</td>\n      <td>0.0</td>\n      <td>0.0</td>\n      <td>0.0</td>\n      <td>0.0</td>\n      <td>0.0</td>\n      <td>...</td>\n      <td>0.0</td>\n      <td>0.0</td>\n      <td>0.0</td>\n      <td>0.0</td>\n      <td>0.0</td>\n      <td>0.0</td>\n      <td>0.0</td>\n      <td>0.0</td>\n      <td>0.0</td>\n      <td>0.0</td>\n    </tr>\n    <tr>\n      <th>ATLAtlanta United FC2018</th>\n      <td>0.0</td>\n      <td>0.0</td>\n      <td>0.0</td>\n      <td>0.0</td>\n      <td>0.0</td>\n      <td>0.0</td>\n      <td>0.0</td>\n      <td>0.0</td>\n      <td>0.0</td>\n      <td>0.0</td>\n      <td>...</td>\n      <td>0.0</td>\n      <td>0.0</td>\n      <td>0.0</td>\n      <td>0.0</td>\n      <td>0.0</td>\n      <td>0.0</td>\n      <td>0.0</td>\n      <td>0.0</td>\n      <td>0.0</td>\n      <td>0.0</td>\n    </tr>\n    <tr>\n      <th>CHIChicago Fire FC2007</th>\n      <td>0.0</td>\n      <td>0.0</td>\n      <td>0.0</td>\n      <td>0.0</td>\n      <td>0.0</td>\n      <td>0.0</td>\n      <td>0.0</td>\n      <td>0.0</td>\n      <td>0.0</td>\n      <td>0.0</td>\n      <td>...</td>\n      <td>0.0</td>\n      <td>0.0</td>\n      <td>0.0</td>\n      <td>0.0</td>\n      <td>0.0</td>\n      <td>0.0</td>\n      <td>0.0</td>\n      <td>0.0</td>\n      <td>0.0</td>\n      <td>0.0</td>\n    </tr>\n    <tr>\n      <th>CHIChicago Fire FC2008</th>\n      <td>0.0</td>\n      <td>0.0</td>\n      <td>0.0</td>\n      <td>0.0</td>\n      <td>0.0</td>\n      <td>0.0</td>\n      <td>0.0</td>\n      <td>0.0</td>\n      <td>0.0</td>\n      <td>0.0</td>\n      <td>...</td>\n      <td>0.0</td>\n      <td>0.0</td>\n      <td>0.0</td>\n      <td>0.0</td>\n      <td>0.0</td>\n      <td>0.0</td>\n      <td>0.0</td>\n      <td>0.0</td>\n      <td>0.0</td>\n      <td>0.0</td>\n    </tr>\n    <tr>\n      <th>CHIChicago Fire FC2009</th>\n      <td>0.0</td>\n      <td>0.0</td>\n      <td>0.0</td>\n      <td>0.0</td>\n      <td>0.0</td>\n      <td>0.0</td>\n      <td>0.0</td>\n      <td>0.0</td>\n      <td>0.0</td>\n      <td>0.0</td>\n      <td>...</td>\n      <td>0.0</td>\n      <td>0.0</td>\n      <td>0.0</td>\n      <td>0.0</td>\n      <td>0.0</td>\n      <td>0.0</td>\n      <td>0.0</td>\n      <td>0.0</td>\n      <td>0.0</td>\n      <td>0.0</td>\n    </tr>\n    <tr>\n      <th>...</th>\n      <td>...</td>\n      <td>...</td>\n      <td>...</td>\n      <td>...</td>\n      <td>...</td>\n      <td>...</td>\n      <td>...</td>\n      <td>...</td>\n      <td>...</td>\n      <td>...</td>\n      <td>...</td>\n      <td>...</td>\n      <td>...</td>\n      <td>...</td>\n      <td>...</td>\n      <td>...</td>\n      <td>...</td>\n      <td>...</td>\n      <td>...</td>\n      <td>...</td>\n      <td>...</td>\n    </tr>\n    <tr>\n      <th>VANVancouver Whitecaps FC2014</th>\n      <td>0.0</td>\n      <td>0.0</td>\n      <td>0.0</td>\n      <td>0.0</td>\n      <td>0.0</td>\n      <td>0.0</td>\n      <td>0.0</td>\n      <td>0.0</td>\n      <td>0.0</td>\n      <td>0.0</td>\n      <td>...</td>\n      <td>0.0</td>\n      <td>0.0</td>\n      <td>0.0</td>\n      <td>0.0</td>\n      <td>0.0</td>\n      <td>0.0</td>\n      <td>0.0</td>\n      <td>0.0</td>\n      <td>0.0</td>\n      <td>0.0</td>\n    </tr>\n    <tr>\n      <th>VANVancouver Whitecaps FC2015</th>\n      <td>0.0</td>\n      <td>0.0</td>\n      <td>0.0</td>\n      <td>0.0</td>\n      <td>0.0</td>\n      <td>0.0</td>\n      <td>0.0</td>\n      <td>0.0</td>\n      <td>0.0</td>\n      <td>0.0</td>\n      <td>...</td>\n      <td>0.0</td>\n      <td>0.0</td>\n      <td>0.0</td>\n      <td>0.0</td>\n      <td>0.0</td>\n      <td>0.0</td>\n      <td>0.0</td>\n      <td>0.0</td>\n      <td>0.0</td>\n      <td>0.0</td>\n    </tr>\n    <tr>\n      <th>VANVancouver Whitecaps FC2016</th>\n      <td>0.0</td>\n      <td>0.0</td>\n      <td>0.0</td>\n      <td>0.0</td>\n      <td>0.0</td>\n      <td>0.0</td>\n      <td>0.0</td>\n      <td>0.0</td>\n      <td>0.0</td>\n      <td>0.0</td>\n      <td>...</td>\n      <td>0.0</td>\n      <td>0.0</td>\n      <td>0.0</td>\n      <td>0.0</td>\n      <td>0.0</td>\n      <td>0.0</td>\n      <td>0.0</td>\n      <td>0.0</td>\n      <td>0.0</td>\n      <td>0.0</td>\n    </tr>\n    <tr>\n      <th>VANVancouver Whitecaps FC2017</th>\n      <td>0.0</td>\n      <td>0.0</td>\n      <td>0.0</td>\n      <td>0.0</td>\n      <td>0.0</td>\n      <td>0.0</td>\n      <td>0.0</td>\n      <td>0.0</td>\n      <td>0.0</td>\n      <td>0.0</td>\n      <td>...</td>\n      <td>0.0</td>\n      <td>0.0</td>\n      <td>0.0</td>\n      <td>0.0</td>\n      <td>0.0</td>\n      <td>0.0</td>\n      <td>0.0</td>\n      <td>0.0</td>\n      <td>0.0</td>\n      <td>0.0</td>\n    </tr>\n    <tr>\n      <th>VANVancouver Whitecaps FC2018</th>\n      <td>0.0</td>\n      <td>0.0</td>\n      <td>0.0</td>\n      <td>0.0</td>\n      <td>0.0</td>\n      <td>0.0</td>\n      <td>0.0</td>\n      <td>0.0</td>\n      <td>0.0</td>\n      <td>0.0</td>\n      <td>...</td>\n      <td>0.0</td>\n      <td>0.0</td>\n      <td>0.0</td>\n      <td>0.0</td>\n      <td>0.0</td>\n      <td>0.0</td>\n      <td>0.0</td>\n      <td>0.0</td>\n      <td>0.0</td>\n      <td>0.0</td>\n    </tr>\n  </tbody>\n</table>\n<p>218 rows × 4502 columns</p>\n</div>"
     },
     "metadata": {},
     "execution_count": 80
    }
   ],
   "source": [
    "X = samples.join(experiences, rsuffix=\"e\").fillna(0).sort_index()\n",
    "X"
   ]
  },
  {
   "cell_type": "code",
   "execution_count": 141,
   "metadata": {},
   "outputs": [],
   "source": [
    "# Use train_test_split to create training and testing data\n",
    "from sklearn.model_selection import train_test_split\n",
    "\n",
    "X_train, X_test, y_train, y_test = train_test_split(X, y, random_state=3)"
   ]
  },
  {
   "cell_type": "code",
   "execution_count": 82,
   "metadata": {},
   "outputs": [
    {
     "output_type": "execute_result",
     "data": {
      "text/plain": "(55, 4502)"
     },
     "metadata": {},
     "execution_count": 82
    }
   ],
   "source": [
    "X_test.shape"
   ]
  },
  {
   "cell_type": "code",
   "execution_count": 127,
   "metadata": {
    "tags": []
   },
   "outputs": [
    {
     "output_type": "stream",
     "name": "stdout",
     "text": "Model: \"sequential_10\"\n_________________________________________________________________\nLayer (type)                 Output Shape              Param #   \n=================================================================\ndense_40 (Dense)             (None, 32)                144096    \n_________________________________________________________________\ndense_41 (Dense)             (None, 16)                528       \n_________________________________________________________________\ndense_42 (Dense)             (None, 8)                 136       \n_________________________________________________________________\ndense_43 (Dense)             (None, 1)                 9         \n=================================================================\nTotal params: 144,769\nTrainable params: 144,769\nNon-trainable params: 0\n_________________________________________________________________\n"
    }
   ],
   "source": [
    "# first, create a normal neural network with 2 inputs, 6 hidden nodes, and 2 outputs\n",
    "from tensorflow.keras.models import Sequential\n",
    "from tensorflow.keras.layers import Dense\n",
    "\n",
    "model = Sequential()\n",
    "model.add(Dense(units=32, activation='relu', input_dim=X_train.shape[-1]))\n",
    "model.add(Dense(units=16, activation='relu'))\n",
    "model.add(Dense(units=8, activation='relu'))\n",
    "model.add(Dense(units=1))\n",
    "model.summary()"
   ]
  },
  {
   "cell_type": "code",
   "execution_count": 128,
   "metadata": {},
   "outputs": [],
   "source": [
    "import tensorflow as tf\n",
    "# Compile the model\n",
    "model.compile(optimizer='adam',\n",
    "              loss=tf.keras.losses.MeanSquaredError(),\n",
    "              metrics=['accuracy'])"
   ]
  },
  {
   "cell_type": "code",
   "execution_count": 129,
   "metadata": {
    "tags": []
   },
   "outputs": [
    {
     "output_type": "stream",
     "name": "stdout",
     "text": "Epoch 1/20\n6/6 [==============================] - 0s 5ms/step - loss: 123.7185 - accuracy: 0.0000e+00\nEpoch 2/20\n6/6 [==============================] - 0s 4ms/step - loss: 120.7649 - accuracy: 0.0000e+00\nEpoch 3/20\n6/6 [==============================] - 0s 4ms/step - loss: 116.8655 - accuracy: 0.0184\nEpoch 4/20\n6/6 [==============================] - 0s 3ms/step - loss: 109.8531 - accuracy: 0.0307\nEpoch 5/20\n6/6 [==============================] - 0s 4ms/step - loss: 99.8947 - accuracy: 0.0613\nEpoch 6/20\n6/6 [==============================] - 0s 5ms/step - loss: 86.4110 - accuracy: 0.0613\nEpoch 7/20\n6/6 [==============================] - 0s 4ms/step - loss: 72.4305 - accuracy: 0.0613\nEpoch 8/20\n6/6 [==============================] - 0s 3ms/step - loss: 58.2571 - accuracy: 0.0613\nEpoch 9/20\n6/6 [==============================] - 0s 4ms/step - loss: 45.0211 - accuracy: 0.0613\nEpoch 10/20\n6/6 [==============================] - 0s 4ms/step - loss: 33.9585 - accuracy: 0.0613\nEpoch 11/20\n6/6 [==============================] - 0s 3ms/step - loss: 25.7994 - accuracy: 0.0613\nEpoch 12/20\n6/6 [==============================] - 0s 3ms/step - loss: 20.1707 - accuracy: 0.0613\nEpoch 13/20\n6/6 [==============================] - 0s 5ms/step - loss: 15.9244 - accuracy: 0.0613\nEpoch 14/20\n6/6 [==============================] - 0s 4ms/step - loss: 12.9641 - accuracy: 0.0613\nEpoch 15/20\n6/6 [==============================] - 0s 6ms/step - loss: 10.3652 - accuracy: 0.0613\nEpoch 16/20\n6/6 [==============================] - 0s 4ms/step - loss: 8.2086 - accuracy: 0.0613\nEpoch 17/20\n6/6 [==============================] - 0s 4ms/step - loss: 6.4826 - accuracy: 0.0613\nEpoch 18/20\n6/6 [==============================] - 0s 3ms/step - loss: 5.2479 - accuracy: 0.0613\nEpoch 19/20\n6/6 [==============================] - 0s 4ms/step - loss: 4.1551 - accuracy: 0.0613\nEpoch 20/20\n6/6 [==============================] - 0s 3ms/step - loss: 3.3875 - accuracy: 0.0613\n"
    },
    {
     "output_type": "execute_result",
     "data": {
      "text/plain": "<tensorflow.python.keras.callbacks.History at 0x7ff590159748>"
     },
     "metadata": {},
     "execution_count": 129
    }
   ],
   "source": [
    "# Fit the model to the training data\n",
    "model.fit(\n",
    "    X_train,\n",
    "    y_train,\n",
    "    epochs=20,\n",
    "    shuffle=True,\n",
    "    verbose=1\n",
    ")"
   ]
  },
  {
   "cell_type": "code",
   "execution_count": 131,
   "metadata": {
    "tags": []
   },
   "outputs": [
    {
     "output_type": "stream",
     "name": "stdout",
     "text": "2/2 - 0s - loss: 28.3667 - accuracy: 0.0364\nNormal Neural Network - Loss: 28.366748809814453, Accuracy: 0.036363635212183\n"
    }
   ],
   "source": [
    "model_loss, model_accuracy = model.evaluate(\n",
    "    X_test, y_test, verbose=2)\n",
    "print(\n",
    "    f\"Normal Neural Network - Loss: {model_loss}, Accuracy: {model_accuracy}\")"
   ]
  },
  {
   "cell_type": "code",
   "execution_count": 145,
   "metadata": {},
   "outputs": [
    {
     "output_type": "execute_result",
     "data": {
      "text/plain": "array([[13.417073]], dtype=float32)"
     },
     "metadata": {},
     "execution_count": 145
    }
   ],
   "source": [
    "model.predict(X_test.head(1))"
   ]
  },
  {
   "cell_type": "code",
   "execution_count": 142,
   "metadata": {},
   "outputs": [
    {
     "output_type": "execute_result",
     "data": {
      "text/plain": "Team\nDCD.C. United2016    10.0\nName: Standing, dtype: float64"
     },
     "metadata": {},
     "execution_count": 142
    }
   ],
   "source": [
    "y_test.head(1)"
   ]
  },
  {
   "cell_type": "code",
   "execution_count": null,
   "metadata": {},
   "outputs": [],
   "source": []
  }
 ]
}